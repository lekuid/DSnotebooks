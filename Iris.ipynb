{
 "cells": [
  {
   "cell_type": "markdown",
   "metadata": {
    "id": "FGKmlO9y0WNS"
   },
   "source": [
    "# Iris Dataset\n",
    "\n",
    "## Objective:\n",
    "To perform classification analysis on Iris dataset. Perform any two classification  algorithms and compare the accuracy."
   ]
  },
  {
   "cell_type": "markdown",
   "metadata": {
    "id": "R-g3KEga0iml"
   },
   "source": [
    "### Prerequisites"
   ]
  },
  {
   "cell_type": "code",
   "execution_count": 1,
   "metadata": {
    "executionInfo": {
     "elapsed": 1322,
     "status": "ok",
     "timestamp": 1615651662751,
     "user": {
      "displayName": "Lekuid",
      "photoUrl": "https://lh3.googleusercontent.com/a-/AOh14Gg8Q7mCM_TRC9xYBBLXEDy1ehF2yyZMRcSY8smKqpg=s64",
      "userId": "09121637735853155777"
     },
     "user_tz": -330
    },
    "id": "10CYBCPF5iIz"
   },
   "outputs": [],
   "source": [
    "import matplotlib.pyplot as plt\n",
    "import seaborn as sns\n",
    "import pandas as pd"
   ]
  },
  {
   "cell_type": "code",
   "execution_count": 3,
   "metadata": {
    "colab": {
     "base_uri": "https://localhost:8080/",
     "height": 406
    },
    "executionInfo": {
     "elapsed": 2483,
     "status": "ok",
     "timestamp": 1615651663938,
     "user": {
      "displayName": "Lekuid",
      "photoUrl": "https://lh3.googleusercontent.com/a-/AOh14Gg8Q7mCM_TRC9xYBBLXEDy1ehF2yyZMRcSY8smKqpg=s64",
      "userId": "09121637735853155777"
     },
     "user_tz": -330
    },
    "id": "2md_Bg9xHkIU",
    "outputId": "ef4d94f6-b06a-421f-951c-f415617d9179"
   },
   "outputs": [
    {
     "data": {
      "text/html": [
       "<div>\n",
       "<style scoped>\n",
       "    .dataframe tbody tr th:only-of-type {\n",
       "        vertical-align: middle;\n",
       "    }\n",
       "\n",
       "    .dataframe tbody tr th {\n",
       "        vertical-align: top;\n",
       "    }\n",
       "\n",
       "    .dataframe thead th {\n",
       "        text-align: right;\n",
       "    }\n",
       "</style>\n",
       "<table border=\"1\" class=\"dataframe\">\n",
       "  <thead>\n",
       "    <tr style=\"text-align: right;\">\n",
       "      <th></th>\n",
       "      <th>Id</th>\n",
       "      <th>SepalLengthCm</th>\n",
       "      <th>SepalWidthCm</th>\n",
       "      <th>PetalLengthCm</th>\n",
       "      <th>PetalWidthCm</th>\n",
       "      <th>Species</th>\n",
       "    </tr>\n",
       "  </thead>\n",
       "  <tbody>\n",
       "    <tr>\n",
       "      <th>0</th>\n",
       "      <td>1</td>\n",
       "      <td>5.1</td>\n",
       "      <td>3.5</td>\n",
       "      <td>1.4</td>\n",
       "      <td>0.2</td>\n",
       "      <td>Iris-setosa</td>\n",
       "    </tr>\n",
       "    <tr>\n",
       "      <th>1</th>\n",
       "      <td>2</td>\n",
       "      <td>4.9</td>\n",
       "      <td>3.0</td>\n",
       "      <td>1.4</td>\n",
       "      <td>0.2</td>\n",
       "      <td>Iris-setosa</td>\n",
       "    </tr>\n",
       "    <tr>\n",
       "      <th>2</th>\n",
       "      <td>3</td>\n",
       "      <td>4.7</td>\n",
       "      <td>3.2</td>\n",
       "      <td>1.3</td>\n",
       "      <td>0.2</td>\n",
       "      <td>Iris-setosa</td>\n",
       "    </tr>\n",
       "    <tr>\n",
       "      <th>3</th>\n",
       "      <td>4</td>\n",
       "      <td>4.6</td>\n",
       "      <td>3.1</td>\n",
       "      <td>1.5</td>\n",
       "      <td>0.2</td>\n",
       "      <td>Iris-setosa</td>\n",
       "    </tr>\n",
       "    <tr>\n",
       "      <th>4</th>\n",
       "      <td>5</td>\n",
       "      <td>5.0</td>\n",
       "      <td>3.6</td>\n",
       "      <td>1.4</td>\n",
       "      <td>0.2</td>\n",
       "      <td>Iris-setosa</td>\n",
       "    </tr>\n",
       "    <tr>\n",
       "      <th>...</th>\n",
       "      <td>...</td>\n",
       "      <td>...</td>\n",
       "      <td>...</td>\n",
       "      <td>...</td>\n",
       "      <td>...</td>\n",
       "      <td>...</td>\n",
       "    </tr>\n",
       "    <tr>\n",
       "      <th>145</th>\n",
       "      <td>146</td>\n",
       "      <td>6.7</td>\n",
       "      <td>3.0</td>\n",
       "      <td>5.2</td>\n",
       "      <td>2.3</td>\n",
       "      <td>Iris-virginica</td>\n",
       "    </tr>\n",
       "    <tr>\n",
       "      <th>146</th>\n",
       "      <td>147</td>\n",
       "      <td>6.3</td>\n",
       "      <td>2.5</td>\n",
       "      <td>5.0</td>\n",
       "      <td>1.9</td>\n",
       "      <td>Iris-virginica</td>\n",
       "    </tr>\n",
       "    <tr>\n",
       "      <th>147</th>\n",
       "      <td>148</td>\n",
       "      <td>6.5</td>\n",
       "      <td>3.0</td>\n",
       "      <td>5.2</td>\n",
       "      <td>2.0</td>\n",
       "      <td>Iris-virginica</td>\n",
       "    </tr>\n",
       "    <tr>\n",
       "      <th>148</th>\n",
       "      <td>149</td>\n",
       "      <td>6.2</td>\n",
       "      <td>3.4</td>\n",
       "      <td>5.4</td>\n",
       "      <td>2.3</td>\n",
       "      <td>Iris-virginica</td>\n",
       "    </tr>\n",
       "    <tr>\n",
       "      <th>149</th>\n",
       "      <td>150</td>\n",
       "      <td>5.9</td>\n",
       "      <td>3.0</td>\n",
       "      <td>5.1</td>\n",
       "      <td>1.8</td>\n",
       "      <td>Iris-virginica</td>\n",
       "    </tr>\n",
       "  </tbody>\n",
       "</table>\n",
       "<p>150 rows × 6 columns</p>\n",
       "</div>"
      ],
      "text/plain": [
       "      Id  SepalLengthCm  SepalWidthCm  PetalLengthCm  PetalWidthCm  \\\n",
       "0      1            5.1           3.5            1.4           0.2   \n",
       "1      2            4.9           3.0            1.4           0.2   \n",
       "2      3            4.7           3.2            1.3           0.2   \n",
       "3      4            4.6           3.1            1.5           0.2   \n",
       "4      5            5.0           3.6            1.4           0.2   \n",
       "..   ...            ...           ...            ...           ...   \n",
       "145  146            6.7           3.0            5.2           2.3   \n",
       "146  147            6.3           2.5            5.0           1.9   \n",
       "147  148            6.5           3.0            5.2           2.0   \n",
       "148  149            6.2           3.4            5.4           2.3   \n",
       "149  150            5.9           3.0            5.1           1.8   \n",
       "\n",
       "            Species  \n",
       "0       Iris-setosa  \n",
       "1       Iris-setosa  \n",
       "2       Iris-setosa  \n",
       "3       Iris-setosa  \n",
       "4       Iris-setosa  \n",
       "..              ...  \n",
       "145  Iris-virginica  \n",
       "146  Iris-virginica  \n",
       "147  Iris-virginica  \n",
       "148  Iris-virginica  \n",
       "149  Iris-virginica  \n",
       "\n",
       "[150 rows x 6 columns]"
      ]
     },
     "execution_count": 3,
     "metadata": {},
     "output_type": "execute_result"
    }
   ],
   "source": [
    "df = pd.read_csv(r'C:\\Users\\Lekuid\\JupyterNotebooks\\Verzeo\\aMinor_IRIS\\IrisData.csv')\n",
    "df"
   ]
  },
  {
   "cell_type": "markdown",
   "metadata": {
    "id": "6XvWhbEE0rzK"
   },
   "source": [
    "### Analysis"
   ]
  },
  {
   "cell_type": "code",
   "execution_count": 4,
   "metadata": {
    "colab": {
     "base_uri": "https://localhost:8080/"
    },
    "executionInfo": {
     "elapsed": 2466,
     "status": "ok",
     "timestamp": 1615651663941,
     "user": {
      "displayName": "Lekuid",
      "photoUrl": "https://lh3.googleusercontent.com/a-/AOh14Gg8Q7mCM_TRC9xYBBLXEDy1ehF2yyZMRcSY8smKqpg=s64",
      "userId": "09121637735853155777"
     },
     "user_tz": -330
    },
    "id": "vv6jLbe94mii",
    "outputId": "d84c3c12-df83-4f8a-e176-2aa174c5286a"
   },
   "outputs": [
    {
     "name": "stdout",
     "output_type": "stream",
     "text": [
      "<class 'pandas.core.frame.DataFrame'>\n",
      "RangeIndex: 150 entries, 0 to 149\n",
      "Data columns (total 6 columns):\n",
      " #   Column         Non-Null Count  Dtype  \n",
      "---  ------         --------------  -----  \n",
      " 0   Id             150 non-null    int64  \n",
      " 1   SepalLengthCm  150 non-null    float64\n",
      " 2   SepalWidthCm   150 non-null    float64\n",
      " 3   PetalLengthCm  150 non-null    float64\n",
      " 4   PetalWidthCm   150 non-null    float64\n",
      " 5   Species        150 non-null    object \n",
      "dtypes: float64(4), int64(1), object(1)\n",
      "memory usage: 7.2+ KB\n"
     ]
    }
   ],
   "source": [
    "df.info()"
   ]
  },
  {
   "cell_type": "code",
   "execution_count": 5,
   "metadata": {
    "colab": {
     "base_uri": "https://localhost:8080/",
     "height": 287
    },
    "executionInfo": {
     "elapsed": 2447,
     "status": "ok",
     "timestamp": 1615651663943,
     "user": {
      "displayName": "Lekuid",
      "photoUrl": "https://lh3.googleusercontent.com/a-/AOh14Gg8Q7mCM_TRC9xYBBLXEDy1ehF2yyZMRcSY8smKqpg=s64",
      "userId": "09121637735853155777"
     },
     "user_tz": -330
    },
    "id": "QblYsY69xJ60",
    "outputId": "15076808-05a5-425d-ae2e-b269b661c7b2"
   },
   "outputs": [
    {
     "data": {
      "text/html": [
       "<div>\n",
       "<style scoped>\n",
       "    .dataframe tbody tr th:only-of-type {\n",
       "        vertical-align: middle;\n",
       "    }\n",
       "\n",
       "    .dataframe tbody tr th {\n",
       "        vertical-align: top;\n",
       "    }\n",
       "\n",
       "    .dataframe thead th {\n",
       "        text-align: right;\n",
       "    }\n",
       "</style>\n",
       "<table border=\"1\" class=\"dataframe\">\n",
       "  <thead>\n",
       "    <tr style=\"text-align: right;\">\n",
       "      <th></th>\n",
       "      <th>Id</th>\n",
       "      <th>SepalLengthCm</th>\n",
       "      <th>SepalWidthCm</th>\n",
       "      <th>PetalLengthCm</th>\n",
       "      <th>PetalWidthCm</th>\n",
       "    </tr>\n",
       "  </thead>\n",
       "  <tbody>\n",
       "    <tr>\n",
       "      <th>count</th>\n",
       "      <td>150.000000</td>\n",
       "      <td>150.000000</td>\n",
       "      <td>150.000000</td>\n",
       "      <td>150.000000</td>\n",
       "      <td>150.000000</td>\n",
       "    </tr>\n",
       "    <tr>\n",
       "      <th>mean</th>\n",
       "      <td>75.500000</td>\n",
       "      <td>5.843333</td>\n",
       "      <td>3.054000</td>\n",
       "      <td>3.758667</td>\n",
       "      <td>1.198667</td>\n",
       "    </tr>\n",
       "    <tr>\n",
       "      <th>std</th>\n",
       "      <td>43.445368</td>\n",
       "      <td>0.828066</td>\n",
       "      <td>0.433594</td>\n",
       "      <td>1.764420</td>\n",
       "      <td>0.763161</td>\n",
       "    </tr>\n",
       "    <tr>\n",
       "      <th>min</th>\n",
       "      <td>1.000000</td>\n",
       "      <td>4.300000</td>\n",
       "      <td>2.000000</td>\n",
       "      <td>1.000000</td>\n",
       "      <td>0.100000</td>\n",
       "    </tr>\n",
       "    <tr>\n",
       "      <th>25%</th>\n",
       "      <td>38.250000</td>\n",
       "      <td>5.100000</td>\n",
       "      <td>2.800000</td>\n",
       "      <td>1.600000</td>\n",
       "      <td>0.300000</td>\n",
       "    </tr>\n",
       "    <tr>\n",
       "      <th>50%</th>\n",
       "      <td>75.500000</td>\n",
       "      <td>5.800000</td>\n",
       "      <td>3.000000</td>\n",
       "      <td>4.350000</td>\n",
       "      <td>1.300000</td>\n",
       "    </tr>\n",
       "    <tr>\n",
       "      <th>75%</th>\n",
       "      <td>112.750000</td>\n",
       "      <td>6.400000</td>\n",
       "      <td>3.300000</td>\n",
       "      <td>5.100000</td>\n",
       "      <td>1.800000</td>\n",
       "    </tr>\n",
       "    <tr>\n",
       "      <th>max</th>\n",
       "      <td>150.000000</td>\n",
       "      <td>7.900000</td>\n",
       "      <td>4.400000</td>\n",
       "      <td>6.900000</td>\n",
       "      <td>2.500000</td>\n",
       "    </tr>\n",
       "  </tbody>\n",
       "</table>\n",
       "</div>"
      ],
      "text/plain": [
       "               Id  SepalLengthCm  SepalWidthCm  PetalLengthCm  PetalWidthCm\n",
       "count  150.000000     150.000000    150.000000     150.000000    150.000000\n",
       "mean    75.500000       5.843333      3.054000       3.758667      1.198667\n",
       "std     43.445368       0.828066      0.433594       1.764420      0.763161\n",
       "min      1.000000       4.300000      2.000000       1.000000      0.100000\n",
       "25%     38.250000       5.100000      2.800000       1.600000      0.300000\n",
       "50%     75.500000       5.800000      3.000000       4.350000      1.300000\n",
       "75%    112.750000       6.400000      3.300000       5.100000      1.800000\n",
       "max    150.000000       7.900000      4.400000       6.900000      2.500000"
      ]
     },
     "execution_count": 5,
     "metadata": {},
     "output_type": "execute_result"
    }
   ],
   "source": [
    "df.describe()"
   ]
  },
  {
   "cell_type": "code",
   "execution_count": 6,
   "metadata": {
    "colab": {
     "base_uri": "https://localhost:8080/"
    },
    "executionInfo": {
     "elapsed": 2426,
     "status": "ok",
     "timestamp": 1615651663944,
     "user": {
      "displayName": "Lekuid",
      "photoUrl": "https://lh3.googleusercontent.com/a-/AOh14Gg8Q7mCM_TRC9xYBBLXEDy1ehF2yyZMRcSY8smKqpg=s64",
      "userId": "09121637735853155777"
     },
     "user_tz": -330
    },
    "id": "mZaxtICMxNME",
    "outputId": "dea5ca27-a78c-4841-8483-8efdaa94a874"
   },
   "outputs": [
    {
     "data": {
      "text/plain": [
       "Iris-versicolor    50\n",
       "Iris-setosa        50\n",
       "Iris-virginica     50\n",
       "Name: Species, dtype: int64"
      ]
     },
     "execution_count": 6,
     "metadata": {},
     "output_type": "execute_result"
    }
   ],
   "source": [
    "df['Species'].value_counts()"
   ]
  },
  {
   "cell_type": "markdown",
   "metadata": {
    "id": "lf1ZDw4r0zt4"
   },
   "source": [
    "Three different species from the Iris genus.\\\n",
    "We have Sepal and Petal dimensions given along with a ID tag. No values missing.\\\n",
    "Prediction Output needs to be a trained model which can classify between them."
   ]
  },
  {
   "cell_type": "markdown",
   "metadata": {
    "id": "w2Fvn8OB1mDh"
   },
   "source": [
    "### Visualization"
   ]
  },
  {
   "cell_type": "code",
   "execution_count": 7,
   "metadata": {
    "colab": {
     "base_uri": "https://localhost:8080/",
     "height": 137
    },
    "executionInfo": {
     "elapsed": 2405,
     "status": "ok",
     "timestamp": 1615651663945,
     "user": {
      "displayName": "Lekuid",
      "photoUrl": "https://lh3.googleusercontent.com/a-/AOh14Gg8Q7mCM_TRC9xYBBLXEDy1ehF2yyZMRcSY8smKqpg=s64",
      "userId": "09121637735853155777"
     },
     "user_tz": -330
    },
    "id": "GzkPhFVk1vvW",
    "outputId": "f00bcf72-1565-470a-c836-db8ddc375788"
   },
   "outputs": [
    {
     "data": {
      "text/html": [
       "<div>\n",
       "<style scoped>\n",
       "    .dataframe tbody tr th:only-of-type {\n",
       "        vertical-align: middle;\n",
       "    }\n",
       "\n",
       "    .dataframe tbody tr th {\n",
       "        vertical-align: top;\n",
       "    }\n",
       "\n",
       "    .dataframe thead th {\n",
       "        text-align: right;\n",
       "    }\n",
       "</style>\n",
       "<table border=\"1\" class=\"dataframe\">\n",
       "  <thead>\n",
       "    <tr style=\"text-align: right;\">\n",
       "      <th></th>\n",
       "      <th>Id</th>\n",
       "      <th>SepalLengthCm</th>\n",
       "      <th>SepalWidthCm</th>\n",
       "      <th>PetalLengthCm</th>\n",
       "      <th>PetalWidthCm</th>\n",
       "      <th>Species</th>\n",
       "    </tr>\n",
       "  </thead>\n",
       "  <tbody>\n",
       "    <tr>\n",
       "      <th>0</th>\n",
       "      <td>1</td>\n",
       "      <td>5.1</td>\n",
       "      <td>3.5</td>\n",
       "      <td>1.4</td>\n",
       "      <td>0.2</td>\n",
       "      <td>Iris-setosa</td>\n",
       "    </tr>\n",
       "    <tr>\n",
       "      <th>1</th>\n",
       "      <td>2</td>\n",
       "      <td>4.9</td>\n",
       "      <td>3.0</td>\n",
       "      <td>1.4</td>\n",
       "      <td>0.2</td>\n",
       "      <td>Iris-setosa</td>\n",
       "    </tr>\n",
       "    <tr>\n",
       "      <th>2</th>\n",
       "      <td>3</td>\n",
       "      <td>4.7</td>\n",
       "      <td>3.2</td>\n",
       "      <td>1.3</td>\n",
       "      <td>0.2</td>\n",
       "      <td>Iris-setosa</td>\n",
       "    </tr>\n",
       "  </tbody>\n",
       "</table>\n",
       "</div>"
      ],
      "text/plain": [
       "   Id  SepalLengthCm  SepalWidthCm  PetalLengthCm  PetalWidthCm      Species\n",
       "0   1            5.1           3.5            1.4           0.2  Iris-setosa\n",
       "1   2            4.9           3.0            1.4           0.2  Iris-setosa\n",
       "2   3            4.7           3.2            1.3           0.2  Iris-setosa"
      ]
     },
     "execution_count": 7,
     "metadata": {},
     "output_type": "execute_result"
    }
   ],
   "source": [
    "df.head(3)"
   ]
  },
  {
   "cell_type": "code",
   "execution_count": 8,
   "metadata": {
    "executionInfo": {
     "elapsed": 2390,
     "status": "ok",
     "timestamp": 1615651663946,
     "user": {
      "displayName": "Lekuid",
      "photoUrl": "https://lh3.googleusercontent.com/a-/AOh14Gg8Q7mCM_TRC9xYBBLXEDy1ehF2yyZMRcSY8smKqpg=s64",
      "userId": "09121637735853155777"
     },
     "user_tz": -330
    },
    "id": "y8530LzZ4Gon"
   },
   "outputs": [],
   "source": [
    "#Adding a new feature to make cleaner plots and it is a functionality that will be used for running models too.\n",
    "def num_species(value):\n",
    "  if value == 'Iris-setosa':\n",
    "    return 1\n",
    "  elif value == 'Iris-versicolor':\n",
    "    return 2\n",
    "  else:\n",
    "    return 3\n",
    "df['NumSp'] = df.apply(lambda x: num_species(x['Species']), axis=1)"
   ]
  },
  {
   "cell_type": "code",
   "execution_count": 9,
   "metadata": {
    "colab": {
     "base_uri": "https://localhost:8080/"
    },
    "executionInfo": {
     "elapsed": 2372,
     "status": "ok",
     "timestamp": 1615651663947,
     "user": {
      "displayName": "Lekuid",
      "photoUrl": "https://lh3.googleusercontent.com/a-/AOh14Gg8Q7mCM_TRC9xYBBLXEDy1ehF2yyZMRcSY8smKqpg=s64",
      "userId": "09121637735853155777"
     },
     "user_tz": -330
    },
    "id": "gAqAMvK585mr",
    "outputId": "5ccfe294-50db-4e7c-b6eb-507dc4714095"
   },
   "outputs": [
    {
     "data": {
      "text/plain": [
       "3    50\n",
       "2    50\n",
       "1    50\n",
       "Name: NumSp, dtype: int64"
      ]
     },
     "execution_count": 9,
     "metadata": {},
     "output_type": "execute_result"
    }
   ],
   "source": [
    "df['NumSp'].value_counts()"
   ]
  },
  {
   "cell_type": "code",
   "execution_count": 44,
   "metadata": {
    "colab": {
     "base_uri": "https://localhost:8080/",
     "height": 296
    },
    "executionInfo": {
     "elapsed": 5592,
     "status": "ok",
     "timestamp": 1615651667190,
     "user": {
      "displayName": "Lekuid",
      "photoUrl": "https://lh3.googleusercontent.com/a-/AOh14Gg8Q7mCM_TRC9xYBBLXEDy1ehF2yyZMRcSY8smKqpg=s64",
      "userId": "09121637735853155777"
     },
     "user_tz": -330
    },
    "id": "EUVZdvYT63pQ",
    "outputId": "eba1e786-6957-41e7-f7ba-b2dbd12ce627"
   },
   "outputs": [
    {
     "data": {
      "image/png": "[encoded data removed]",
      "text/plain": [
       "<Figure size 432x288 with 5 Axes>"
      ]
     },
     "metadata": {
      "needs_background": "light"
     },
     "output_type": "display_data"
    }
   ],
   "source": [
    "fig, ax = plt.subplots(1,5)\n",
    "sns.stripplot(x='SepalLengthCm', y='PetalLengthCm', data=df, ax=ax[0])\n",
    "sns.stripplot(x='SepalLengthCm', y='SepalWidthCm', data=df, ax=ax[1])\n",
    "sns.stripplot(x='SepalWidthCm', y='PetalLengthCm', data=df, ax=ax[2])\n",
    "sns.stripplot(x='PetalLengthCm', y='PetalWidthCm', data=df, ax=ax[3])\n",
    "sns.stripplot(x='SepalLengthCm', y='PetalWidthCm', data=df, ax=ax[4])\n",
    "fig.tight_layout()"
   ]
  },
  {
   "cell_type": "code",
   "execution_count": 45,
   "metadata": {
    "colab": {
     "base_uri": "https://localhost:8080/",
     "height": 296
    },
    "executionInfo": {
     "elapsed": 5578,
     "status": "ok",
     "timestamp": 1615651667194,
     "user": {
      "displayName": "Lekuid",
      "photoUrl": "https://lh3.googleusercontent.com/a-/AOh14Gg8Q7mCM_TRC9xYBBLXEDy1ehF2yyZMRcSY8smKqpg=s64",
      "userId": "09121637735853155777"
     },
     "user_tz": -330
    },
    "id": "5f5juZVh14nA",
    "outputId": "2a884930-38f6-436c-8688-7f911c643e4d"
   },
   "outputs": [
    {
     "data": {
      "image/png": "[encoded data removed]",
      "text/plain": [
       "<Figure size 432x288 with 4 Axes>"
      ]
     },
     "metadata": {
      "needs_background": "light"
     },
     "output_type": "display_data"
    }
   ],
   "source": [
    "fig, ax = plt.subplots(1,4)\n",
    "sns.stripplot(x='NumSp', y='SepalLengthCm', data=df, ax=ax[0])\n",
    "sns.stripplot(x='NumSp', y='SepalWidthCm', data=df, ax=ax[1])\n",
    "sns.stripplot(x='NumSp', y='PetalLengthCm', data=df, ax=ax[2])\n",
    "sns.stripplot(x='NumSp', y='PetalWidthCm', data=df, ax=ax[3])\n",
    "fig.tight_layout()"
   ]
  },
  {
   "cell_type": "markdown",
   "metadata": {
    "id": "ESQrnEEr0z-6"
   },
   "source": [
    "Distinct feature spacing"
   ]
  },
  {
   "cell_type": "code",
   "execution_count": 12,
   "metadata": {
    "colab": {
     "base_uri": "https://localhost:8080/",
     "height": 0
    },
    "executionInfo": {
     "elapsed": 6404,
     "status": "ok",
     "timestamp": 1615651668037,
     "user": {
      "displayName": "Lekuid",
      "photoUrl": "https://lh3.googleusercontent.com/a-/AOh14Gg8Q7mCM_TRC9xYBBLXEDy1ehF2yyZMRcSY8smKqpg=s64",
      "userId": "09121637735853155777"
     },
     "user_tz": -330
    },
    "id": "MmjustGA3XWs",
    "outputId": "04f2dec9-44d4-49bb-a5cf-6d49ad7e251f"
   },
   "outputs": [
    {
     "data": {
      "text/plain": [
       "<AxesSubplot:xlabel='SepalLengthCm', ylabel='PetalLengthCm'>"
      ]
     },
     "execution_count": 12,
     "metadata": {},
     "output_type": "execute_result"
    },
    {
     "data": {
      "image/png": "[encoded data removed]",
      "text/plain": [
       "<Figure size 432x288 with 1 Axes>"
      ]
     },
     "metadata": {
      "needs_background": "light"
     },
     "output_type": "display_data"
    }
   ],
   "source": [
    "sns.scatterplot(x='SepalLengthCm', y='PetalLengthCm', hue = 'Species', data = df)"
   ]
  },
  {
   "cell_type": "markdown",
   "metadata": {
    "id": "oleEBMGGHCqA"
   },
   "source": [
    "Linear classifier might be a good fit for this case.\\\n",
    "Are the outliers here significant enough to take note of?\n"
   ]
  },
  {
   "cell_type": "code",
   "execution_count": 13,
   "metadata": {
    "executionInfo": {
     "elapsed": 6391,
     "status": "ok",
     "timestamp": 1615651668039,
     "user": {
      "displayName": "Lekuid",
      "photoUrl": "https://lh3.googleusercontent.com/a-/AOh14Gg8Q7mCM_TRC9xYBBLXEDy1ehF2yyZMRcSY8smKqpg=s64",
      "userId": "09121637735853155777"
     },
     "user_tz": -330
    },
    "id": "GPA11FQNxMuK"
   },
   "outputs": [],
   "source": [
    "#df[50:100] == 'Iris-versicolor'"
   ]
  },
  {
   "cell_type": "code",
   "execution_count": 14,
   "metadata": {
    "colab": {
     "base_uri": "https://localhost:8080/",
     "height": 383
    },
    "executionInfo": {
     "elapsed": 6377,
     "status": "ok",
     "timestamp": 1615651668041,
     "user": {
      "displayName": "Lekuid",
      "photoUrl": "https://lh3.googleusercontent.com/a-/AOh14Gg8Q7mCM_TRC9xYBBLXEDy1ehF2yyZMRcSY8smKqpg=s64",
      "userId": "09121637735853155777"
     },
     "user_tz": -330
    },
    "id": "Om7tYo1axgNp",
    "outputId": "6a97d551-1589-408f-dfb5-7ef6e8a4a232"
   },
   "outputs": [
    {
     "data": {
      "image/png": "[encoded data removed]",
      "text/plain": [
       "<Figure size 463.25x360 with 1 Axes>"
      ]
     },
     "metadata": {
      "needs_background": "light"
     },
     "output_type": "display_data"
    }
   ],
   "source": [
    "sns.lmplot(x=\"SepalLengthCm\", y=\"SepalWidthCm\", hue=\"Species\", data=df);"
   ]
  },
  {
   "cell_type": "markdown",
   "metadata": {},
   "source": [
    "Plotting with sns.implot to get a relation and regression fit. \\\n",
    "Sepal Length and Width are similar between Versicolor and Virginica, whereas Setosa is distinctively different."
   ]
  },
  {
   "cell_type": "code",
   "execution_count": 15,
   "metadata": {
    "colab": {
     "base_uri": "https://localhost:8080/",
     "height": 0
    },
    "executionInfo": {
     "elapsed": 7169,
     "status": "ok",
     "timestamp": 1615651668849,
     "user": {
      "displayName": "Lekuid",
      "photoUrl": "https://lh3.googleusercontent.com/a-/AOh14Gg8Q7mCM_TRC9xYBBLXEDy1ehF2yyZMRcSY8smKqpg=s64",
      "userId": "09121637735853155777"
     },
     "user_tz": -330
    },
    "id": "gKy_n1bq7-CT",
    "outputId": "c126eb48-085f-4e76-d68b-c685ebf8c511"
   },
   "outputs": [
    {
     "data": {
      "image/png": "[encoded data removed]",
      "text/plain": [
       "<Figure size 463.25x360 with 1 Axes>"
      ]
     },
     "metadata": {
      "needs_background": "light"
     },
     "output_type": "display_data"
    }
   ],
   "source": [
    "sns.lmplot(x=\"PetalLengthCm\", y=\"PetalWidthCm\", hue=\"Species\", data=df);"
   ]
  },
  {
   "cell_type": "markdown",
   "metadata": {},
   "source": [
    "Petal Length and Width shows a positive and linear relation between the three Iris species."
   ]
  },
  {
   "cell_type": "code",
   "execution_count": 16,
   "metadata": {
    "colab": {
     "base_uri": "https://localhost:8080/",
     "height": 0
    },
    "executionInfo": {
     "elapsed": 7658,
     "status": "ok",
     "timestamp": 1615651669355,
     "user": {
      "displayName": "Lekuid",
      "photoUrl": "https://lh3.googleusercontent.com/a-/AOh14Gg8Q7mCM_TRC9xYBBLXEDy1ehF2yyZMRcSY8smKqpg=s64",
      "userId": "09121637735853155777"
     },
     "user_tz": -330
    },
    "id": "rnLXxT7zM-u4",
    "outputId": "bd7fae72-516b-4953-d9a4-7889a2180e9d"
   },
   "outputs": [
    {
     "data": {
      "text/plain": [
       "<seaborn.axisgrid.FacetGrid at 0x20ff95f2d90>"
      ]
     },
     "execution_count": 16,
     "metadata": {},
     "output_type": "execute_result"
    },
    {
     "data": {
      "image/png": "[encoded data removed]",
      "text/plain": [
       "<Figure size 463.25x360 with 1 Axes>"
      ]
     },
     "metadata": {
      "needs_background": "light"
     },
     "output_type": "display_data"
    }
   ],
   "source": [
    "sns.displot(x='SepalLengthCm', y='PetalLengthCm', hue = 'Species', data = df)"
   ]
  },
  {
   "cell_type": "markdown",
   "metadata": {},
   "source": [
    "Taking all the visualizations in consideration, Iris-Setosa is very easily regonizable and distinctively smaller in Petal Length but has the highest Sepal Width compared to the other two genus, followed by Versicolor which falls closer to Virginica in context of size with both having almost similar Speal sizes. Virginica is the largest of the three with the longest Petal and Sepal for most cases.\n",
    "\n",
    "I tried out different methods of plotting, \\\n",
    "Explored a variety of graphs, \\\n",
    "and the functionality of printing multiple plots using subplot axs."
   ]
  },
  {
   "cell_type": "markdown",
   "metadata": {
    "id": "g-zMNWFJrxh9"
   },
   "source": [
    "## Model Training"
   ]
  },
  {
   "cell_type": "code",
   "execution_count": 19,
   "metadata": {
    "executionInfo": {
     "elapsed": 7640,
     "status": "ok",
     "timestamp": 1615651669357,
     "user": {
      "displayName": "Lekuid",
      "photoUrl": "https://lh3.googleusercontent.com/a-/AOh14Gg8Q7mCM_TRC9xYBBLXEDy1ehF2yyZMRcSY8smKqpg=s64",
      "userId": "09121637735853155777"
     },
     "user_tz": -330
    },
    "id": "MvVH_WFXr5ij"
   },
   "outputs": [],
   "source": [
    "from sklearn import model_selection\n",
    "from sklearn.tree import *\n",
    "from sklearn import metrics\n",
    "from sklearn.linear_model import LinearRegression\n",
    "from sklearn.model_selection import train_test_split"
   ]
  },
  {
   "cell_type": "code",
   "execution_count": 20,
   "metadata": {
    "executionInfo": {
     "elapsed": 7601,
     "status": "aborted",
     "timestamp": 1615651669360,
     "user": {
      "displayName": "Lekuid",
      "photoUrl": "https://lh3.googleusercontent.com/a-/AOh14Gg8Q7mCM_TRC9xYBBLXEDy1ehF2yyZMRcSY8smKqpg=s64",
      "userId": "09121637735853155777"
     },
     "user_tz": -330
    },
    "id": "W4RqehPZw4Uf"
   },
   "outputs": [
    {
     "data": {
      "text/html": [
       "<div>\n",
       "<style scoped>\n",
       "    .dataframe tbody tr th:only-of-type {\n",
       "        vertical-align: middle;\n",
       "    }\n",
       "\n",
       "    .dataframe tbody tr th {\n",
       "        vertical-align: top;\n",
       "    }\n",
       "\n",
       "    .dataframe thead th {\n",
       "        text-align: right;\n",
       "    }\n",
       "</style>\n",
       "<table border=\"1\" class=\"dataframe\">\n",
       "  <thead>\n",
       "    <tr style=\"text-align: right;\">\n",
       "      <th></th>\n",
       "      <th>SepalLengthCm</th>\n",
       "      <th>SepalWidthCm</th>\n",
       "      <th>PetalLengthCm</th>\n",
       "      <th>PetalWidthCm</th>\n",
       "    </tr>\n",
       "  </thead>\n",
       "  <tbody>\n",
       "    <tr>\n",
       "      <th>0</th>\n",
       "      <td>5.1</td>\n",
       "      <td>3.5</td>\n",
       "      <td>1.4</td>\n",
       "      <td>0.2</td>\n",
       "    </tr>\n",
       "    <tr>\n",
       "      <th>1</th>\n",
       "      <td>4.9</td>\n",
       "      <td>3.0</td>\n",
       "      <td>1.4</td>\n",
       "      <td>0.2</td>\n",
       "    </tr>\n",
       "    <tr>\n",
       "      <th>2</th>\n",
       "      <td>4.7</td>\n",
       "      <td>3.2</td>\n",
       "      <td>1.3</td>\n",
       "      <td>0.2</td>\n",
       "    </tr>\n",
       "    <tr>\n",
       "      <th>3</th>\n",
       "      <td>4.6</td>\n",
       "      <td>3.1</td>\n",
       "      <td>1.5</td>\n",
       "      <td>0.2</td>\n",
       "    </tr>\n",
       "    <tr>\n",
       "      <th>4</th>\n",
       "      <td>5.0</td>\n",
       "      <td>3.6</td>\n",
       "      <td>1.4</td>\n",
       "      <td>0.2</td>\n",
       "    </tr>\n",
       "  </tbody>\n",
       "</table>\n",
       "</div>"
      ],
      "text/plain": [
       "   SepalLengthCm  SepalWidthCm  PetalLengthCm  PetalWidthCm\n",
       "0            5.1           3.5            1.4           0.2\n",
       "1            4.9           3.0            1.4           0.2\n",
       "2            4.7           3.2            1.3           0.2\n",
       "3            4.6           3.1            1.5           0.2\n",
       "4            5.0           3.6            1.4           0.2"
      ]
     },
     "execution_count": 20,
     "metadata": {},
     "output_type": "execute_result"
    }
   ],
   "source": [
    "cols = ['Species', 'NumSp', 'Id']\n",
    "features = df.drop(cols, axis=1)\n",
    "x_Data = features\n",
    "y_Data = df['NumSp']\n",
    "x_Data.head()"
   ]
  },
  {
   "cell_type": "code",
   "execution_count": 21,
   "metadata": {
    "colab": {
     "base_uri": "https://localhost:8080/",
     "height": 167
    },
    "executionInfo": {
     "elapsed": 7660,
     "status": "error",
     "timestamp": 1615651669393,
     "user": {
      "displayName": "Lekuid",
      "photoUrl": "https://lh3.googleusercontent.com/a-/AOh14Gg8Q7mCM_TRC9xYBBLXEDy1ehF2yyZMRcSY8smKqpg=s64",
      "userId": "09121637735853155777"
     },
     "user_tz": -330
    },
    "id": "T26DnM5x45rs",
    "outputId": "03ce5494-e86d-46c7-c7c9-6ad88444d0c0"
   },
   "outputs": [],
   "source": [
    "x_Train, x_Test, y_Train, y_Test = train_test_split(x_Data, y_Data, test_size=0.4)"
   ]
  },
  {
   "cell_type": "code",
   "execution_count": 22,
   "metadata": {
    "executionInfo": {
     "elapsed": 7610,
     "status": "aborted",
     "timestamp": 1615651669358,
     "user": {
      "displayName": "Lekuid",
      "photoUrl": "https://lh3.googleusercontent.com/a-/AOh14Gg8Q7mCM_TRC9xYBBLXEDy1ehF2yyZMRcSY8smKqpg=s64",
      "userId": "09121637735853155777"
     },
     "user_tz": -330
    },
    "id": "R_uzhO8izryL"
   },
   "outputs": [
    {
     "data": {
      "text/html": [
       "<div>\n",
       "<style scoped>\n",
       "    .dataframe tbody tr th:only-of-type {\n",
       "        vertical-align: middle;\n",
       "    }\n",
       "\n",
       "    .dataframe tbody tr th {\n",
       "        vertical-align: top;\n",
       "    }\n",
       "\n",
       "    .dataframe thead th {\n",
       "        text-align: right;\n",
       "    }\n",
       "</style>\n",
       "<table border=\"1\" class=\"dataframe\">\n",
       "  <thead>\n",
       "    <tr style=\"text-align: right;\">\n",
       "      <th></th>\n",
       "      <th>Id</th>\n",
       "      <th>SepalLengthCm</th>\n",
       "      <th>SepalWidthCm</th>\n",
       "      <th>PetalLengthCm</th>\n",
       "      <th>PetalWidthCm</th>\n",
       "      <th>Species</th>\n",
       "      <th>NumSp</th>\n",
       "    </tr>\n",
       "  </thead>\n",
       "  <tbody>\n",
       "    <tr>\n",
       "      <th>0</th>\n",
       "      <td>1</td>\n",
       "      <td>5.1</td>\n",
       "      <td>3.5</td>\n",
       "      <td>1.4</td>\n",
       "      <td>0.2</td>\n",
       "      <td>Iris-setosa</td>\n",
       "      <td>1</td>\n",
       "    </tr>\n",
       "    <tr>\n",
       "      <th>1</th>\n",
       "      <td>2</td>\n",
       "      <td>4.9</td>\n",
       "      <td>3.0</td>\n",
       "      <td>1.4</td>\n",
       "      <td>0.2</td>\n",
       "      <td>Iris-setosa</td>\n",
       "      <td>1</td>\n",
       "    </tr>\n",
       "    <tr>\n",
       "      <th>2</th>\n",
       "      <td>3</td>\n",
       "      <td>4.7</td>\n",
       "      <td>3.2</td>\n",
       "      <td>1.3</td>\n",
       "      <td>0.2</td>\n",
       "      <td>Iris-setosa</td>\n",
       "      <td>1</td>\n",
       "    </tr>\n",
       "    <tr>\n",
       "      <th>3</th>\n",
       "      <td>4</td>\n",
       "      <td>4.6</td>\n",
       "      <td>3.1</td>\n",
       "      <td>1.5</td>\n",
       "      <td>0.2</td>\n",
       "      <td>Iris-setosa</td>\n",
       "      <td>1</td>\n",
       "    </tr>\n",
       "    <tr>\n",
       "      <th>4</th>\n",
       "      <td>5</td>\n",
       "      <td>5.0</td>\n",
       "      <td>3.6</td>\n",
       "      <td>1.4</td>\n",
       "      <td>0.2</td>\n",
       "      <td>Iris-setosa</td>\n",
       "      <td>1</td>\n",
       "    </tr>\n",
       "  </tbody>\n",
       "</table>\n",
       "</div>"
      ],
      "text/plain": [
       "   Id  SepalLengthCm  SepalWidthCm  PetalLengthCm  PetalWidthCm      Species  \\\n",
       "0   1            5.1           3.5            1.4           0.2  Iris-setosa   \n",
       "1   2            4.9           3.0            1.4           0.2  Iris-setosa   \n",
       "2   3            4.7           3.2            1.3           0.2  Iris-setosa   \n",
       "3   4            4.6           3.1            1.5           0.2  Iris-setosa   \n",
       "4   5            5.0           3.6            1.4           0.2  Iris-setosa   \n",
       "\n",
       "   NumSp  \n",
       "0      1  \n",
       "1      1  \n",
       "2      1  \n",
       "3      1  \n",
       "4      1  "
      ]
     },
     "execution_count": 22,
     "metadata": {},
     "output_type": "execute_result"
    }
   ],
   "source": [
    "df.head()"
   ]
  },
  {
   "cell_type": "code",
   "execution_count": 23,
   "metadata": {
    "executionInfo": {
     "elapsed": 7590,
     "status": "aborted",
     "timestamp": 1615651669361,
     "user": {
      "displayName": "Lekuid",
      "photoUrl": "https://lh3.googleusercontent.com/a-/AOh14Gg8Q7mCM_TRC9xYBBLXEDy1ehF2yyZMRcSY8smKqpg=s64",
      "userId": "09121637735853155777"
     },
     "user_tz": -330
    },
    "id": "B3mAmuJ9NbC2"
   },
   "outputs": [
    {
     "data": {
      "text/plain": [
       "0    1\n",
       "1    1\n",
       "2    1\n",
       "3    1\n",
       "4    1\n",
       "Name: NumSp, dtype: int64"
      ]
     },
     "execution_count": 23,
     "metadata": {},
     "output_type": "execute_result"
    }
   ],
   "source": [
    "y_Data.head()"
   ]
  },
  {
   "cell_type": "code",
   "execution_count": 24,
   "metadata": {
    "executionInfo": {
     "elapsed": 7583,
     "status": "aborted",
     "timestamp": 1615651669363,
     "user": {
      "displayName": "Lekuid",
      "photoUrl": "https://lh3.googleusercontent.com/a-/AOh14Gg8Q7mCM_TRC9xYBBLXEDy1ehF2yyZMRcSY8smKqpg=s64",
      "userId": "09121637735853155777"
     },
     "user_tz": -330
    },
    "id": "MkICaot-iKqR"
   },
   "outputs": [
    {
     "data": {
      "text/plain": [
       "3    50\n",
       "2    50\n",
       "1    50\n",
       "Name: NumSp, dtype: int64"
      ]
     },
     "execution_count": 24,
     "metadata": {},
     "output_type": "execute_result"
    }
   ],
   "source": [
    "y_Data.value_counts()"
   ]
  },
  {
   "cell_type": "code",
   "execution_count": 25,
   "metadata": {
    "executionInfo": {
     "elapsed": 7575,
     "status": "aborted",
     "timestamp": 1615651669364,
     "user": {
      "displayName": "Lekuid",
      "photoUrl": "https://lh3.googleusercontent.com/a-/AOh14Gg8Q7mCM_TRC9xYBBLXEDy1ehF2yyZMRcSY8smKqpg=s64",
      "userId": "09121637735853155777"
     },
     "user_tz": -330
    },
    "id": "uYNDouv58Jej"
   },
   "outputs": [
    {
     "data": {
      "text/plain": [
       "(90, 4)"
      ]
     },
     "execution_count": 25,
     "metadata": {},
     "output_type": "execute_result"
    }
   ],
   "source": [
    "x_Train.shape"
   ]
  },
  {
   "cell_type": "code",
   "execution_count": 26,
   "metadata": {
    "executionInfo": {
     "elapsed": 7569,
     "status": "aborted",
     "timestamp": 1615651669365,
     "user": {
      "displayName": "Lekuid",
      "photoUrl": "https://lh3.googleusercontent.com/a-/AOh14Gg8Q7mCM_TRC9xYBBLXEDy1ehF2yyZMRcSY8smKqpg=s64",
      "userId": "09121637735853155777"
     },
     "user_tz": -330
    },
    "id": "Bt2gQDwzilM0"
   },
   "outputs": [
    {
     "data": {
      "text/plain": [
       "(60, 4)"
      ]
     },
     "execution_count": 26,
     "metadata": {},
     "output_type": "execute_result"
    }
   ],
   "source": [
    "x_Test.shape"
   ]
  },
  {
   "cell_type": "code",
   "execution_count": 27,
   "metadata": {
    "executionInfo": {
     "elapsed": 7563,
     "status": "aborted",
     "timestamp": 1615651669367,
     "user": {
      "displayName": "Lekuid",
      "photoUrl": "https://lh3.googleusercontent.com/a-/AOh14Gg8Q7mCM_TRC9xYBBLXEDy1ehF2yyZMRcSY8smKqpg=s64",
      "userId": "09121637735853155777"
     },
     "user_tz": -330
    },
    "id": "B6TTkOO8ilb-"
   },
   "outputs": [
    {
     "data": {
      "text/plain": [
       "(90,)"
      ]
     },
     "execution_count": 27,
     "metadata": {},
     "output_type": "execute_result"
    }
   ],
   "source": [
    "y_Train.shape"
   ]
  },
  {
   "cell_type": "code",
   "execution_count": 28,
   "metadata": {
    "executionInfo": {
     "elapsed": 7558,
     "status": "aborted",
     "timestamp": 1615651669369,
     "user": {
      "displayName": "Lekuid",
      "photoUrl": "https://lh3.googleusercontent.com/a-/AOh14Gg8Q7mCM_TRC9xYBBLXEDy1ehF2yyZMRcSY8smKqpg=s64",
      "userId": "09121637735853155777"
     },
     "user_tz": -330
    },
    "id": "_KB20XKjilrT"
   },
   "outputs": [
    {
     "data": {
      "text/plain": [
       "(60,)"
      ]
     },
     "execution_count": 28,
     "metadata": {},
     "output_type": "execute_result"
    }
   ],
   "source": [
    "y_Test.shape"
   ]
  },
  {
   "cell_type": "code",
   "execution_count": 29,
   "metadata": {
    "executionInfo": {
     "elapsed": 7554,
     "status": "aborted",
     "timestamp": 1615651669371,
     "user": {
      "displayName": "Lekuid",
      "photoUrl": "https://lh3.googleusercontent.com/a-/AOh14Gg8Q7mCM_TRC9xYBBLXEDy1ehF2yyZMRcSY8smKqpg=s64",
      "userId": "09121637735853155777"
     },
     "user_tz": -330
    },
    "id": "oZ7x190g8Ucx"
   },
   "outputs": [
    {
     "data": {
      "text/plain": [
       "3    50\n",
       "2    50\n",
       "1    50\n",
       "Name: NumSp, dtype: int64"
      ]
     },
     "execution_count": 29,
     "metadata": {},
     "output_type": "execute_result"
    }
   ],
   "source": [
    "df.NumSp.value_counts()"
   ]
  },
  {
   "cell_type": "markdown",
   "metadata": {
    "id": "CrGJaYIYrLpW"
   },
   "source": [
    "### DesicionTreeClassifier"
   ]
  },
  {
   "cell_type": "code",
   "execution_count": 30,
   "metadata": {
    "executionInfo": {
     "elapsed": 7551,
     "status": "aborted",
     "timestamp": 1615651669375,
     "user": {
      "displayName": "Lekuid",
      "photoUrl": "https://lh3.googleusercontent.com/a-/AOh14Gg8Q7mCM_TRC9xYBBLXEDy1ehF2yyZMRcSY8smKqpg=s64",
      "userId": "09121637735853155777"
     },
     "user_tz": -330
    },
    "id": "_giCR3nv2iOS"
   },
   "outputs": [],
   "source": [
    "Model1 = DecisionTreeClassifier() #Desicion Tree \n",
    "Model1 = Model1.fit(x_Train, y_Train)"
   ]
  },
  {
   "cell_type": "code",
   "execution_count": 31,
   "metadata": {
    "executionInfo": {
     "elapsed": 7544,
     "status": "aborted",
     "timestamp": 1615651669377,
     "user": {
      "displayName": "Lekuid",
      "photoUrl": "https://lh3.googleusercontent.com/a-/AOh14Gg8Q7mCM_TRC9xYBBLXEDy1ehF2yyZMRcSY8smKqpg=s64",
      "userId": "09121637735853155777"
     },
     "user_tz": -330
    },
    "id": "2ttxzRfa4Jbf"
   },
   "outputs": [
    {
     "name": "stdout",
     "output_type": "stream",
     "text": [
      "[2, 2, 2, 2, 3, 1, 2, 3, 1, 1, 3, 1, 1, 2, 3, 2, 3, 3, 2, 2, 2, 3, 1, 3, 2, 1, 1, 1, 1, 3, 3, 2, 3, 3, 2, 2, 2, 3, 3, 1, 3, 3, 1, 2, 3, 1, 3, 2, 1, 2, 2, 3, 3, 2, 2, 3, 2, 3, 1, 2]\n",
      "93.33333333333333\n"
     ]
    }
   ],
   "source": [
    "Treepredictions = Model1.predict(x_Test)\n",
    "Score = metrics.accuracy_score(y_Test, Treepredictions) * 100\n",
    "print(list(Treepredictions))\n",
    "print(Score)"
   ]
  },
  {
   "cell_type": "code",
   "execution_count": 32,
   "metadata": {
    "executionInfo": {
     "elapsed": 7539,
     "status": "aborted",
     "timestamp": 1615651669379,
     "user": {
      "displayName": "Lekuid",
      "photoUrl": "https://lh3.googleusercontent.com/a-/AOh14Gg8Q7mCM_TRC9xYBBLXEDy1ehF2yyZMRcSY8smKqpg=s64",
      "userId": "09121637735853155777"
     },
     "user_tz": -330
    },
    "id": "fWDvhekG5Ngm"
   },
   "outputs": [],
   "source": [
    "metrics.accuracy_score?"
   ]
  },
  {
   "cell_type": "markdown",
   "metadata": {
    "id": "24RL1FSnySZv"
   },
   "source": [
    "Different Test/Train situations for Desicion Tree"
   ]
  },
  {
   "cell_type": "code",
   "execution_count": 41,
   "metadata": {
    "executionInfo": {
     "elapsed": 7531,
     "status": "aborted",
     "timestamp": 1615651669382,
     "user": {
      "displayName": "Lekuid",
      "photoUrl": "https://lh3.googleusercontent.com/a-/AOh14Gg8Q7mCM_TRC9xYBBLXEDy1ehF2yyZMRcSY8smKqpg=s64",
      "userId": "09121637735853155777"
     },
     "user_tz": -330
    },
    "id": "uP2EYOkZVaNs"
   },
   "outputs": [
    {
     "name": "stdout",
     "output_type": "stream",
     "text": [
      "Accuracy: 100.0% with 90.0% as training data\n",
      "Accuracy: 96.67% with 40.0% as training data\n",
      "Accuracy: 100.0% with 23.33% as training data\n",
      "Accuracy: 98.33% with 15.0% as training data\n",
      "Accuracy: 98.67% with 10.0% as training data\n",
      "Accuracy: 96.67% with 6.67% as training data\n",
      "Accuracy: 98.1% with 4.29% as training data\n",
      "Accuracy: 97.5% with 2.5% as training data\n",
      "Accuracy: 97.78% with 1.11% as training data\n"
     ]
    }
   ],
   "source": [
    "#dIfferent test sizes alters the results\n",
    "#Change Range\n",
    "Range = 10\n",
    "for x in range(1, Range):\n",
    "  x_Train, x_Test, y_Train, y_Test = train_test_split(x_Data, y_Data, test_size=x/10)\n",
    "  TestSize = len(x_Train)/len(x_Test)\n",
    "  Treepredictions = Model1.predict(x_Test)\n",
    "  print(f'Accuracy: {round(metrics.accuracy_score(y_Test, Treepredictions)* 100, 2)}% with {round(TestSize*10, 2)}% as training data')\n",
    "  "
   ]
  },
  {
   "cell_type": "markdown",
   "metadata": {
    "id": "hMCNLzsarY-t"
   },
   "source": [
    "Not very sure why the results are so high but I believe it is so as most of the data are easily classifiable into binary desicions and the results slightly decline as Test space is increased over Training space."
   ]
  },
  {
   "cell_type": "code",
   "execution_count": 34,
   "metadata": {
    "executionInfo": {
     "elapsed": 7524,
     "status": "aborted",
     "timestamp": 1615651669384,
     "user": {
      "displayName": "Lekuid",
      "photoUrl": "https://lh3.googleusercontent.com/a-/AOh14Gg8Q7mCM_TRC9xYBBLXEDy1ehF2yyZMRcSY8smKqpg=s64",
      "userId": "09121637735853155777"
     },
     "user_tz": -330
    },
    "id": "0T-KYqgq56YW"
   },
   "outputs": [
    {
     "name": "stdout",
     "output_type": "stream",
     "text": [
      "[2 2 1 2 2 3 1 1 2]\n",
      "62     2\n",
      "90     2\n",
      "30     1\n",
      "52     2\n",
      "74     2\n",
      "138    3\n",
      "36     1\n",
      "49     1\n",
      "63     2\n",
      "Name: NumSp, dtype: int64\n"
     ]
    }
   ],
   "source": [
    "Check = 9 #Change\n",
    "print(Treepredictions[0:Check])\n",
    "print(y_Test[0:Check])"
   ]
  },
  {
   "cell_type": "markdown",
   "metadata": {
    "id": "qYNaPWJx2tqS"
   },
   "source": [
    "### Linear Regression"
   ]
  },
  {
   "cell_type": "code",
   "execution_count": 35,
   "metadata": {
    "executionInfo": {
     "elapsed": 7517,
     "status": "aborted",
     "timestamp": 1615651669386,
     "user": {
      "displayName": "Lekuid",
      "photoUrl": "https://lh3.googleusercontent.com/a-/AOh14Gg8Q7mCM_TRC9xYBBLXEDy1ehF2yyZMRcSY8smKqpg=s64",
      "userId": "09121637735853155777"
     },
     "user_tz": -330
    },
    "id": "pzNj7ROprunx"
   },
   "outputs": [
    {
     "data": {
      "text/plain": [
       "array([1.75302954, 1.86179249, 0.97251014, 2.10711846, 1.94900801,\n",
       "       2.35014571, 0.95994563, 0.96227222, 2.01851611, 2.91404606])"
      ]
     },
     "execution_count": 35,
     "metadata": {},
     "output_type": "execute_result"
    }
   ],
   "source": [
    "Model2 = LinearRegression()\n",
    "Model2 = Model2.fit(x_Train, y_Train)\n",
    "Model2.score(x_Train, y_Train)\n",
    "Model2.coef_\n",
    "Model2.intercept_\n",
    "#prediction\n",
    "\n",
    "LinRegpredictions = Model2.predict(x_Test) #float results in range 1 to 3\n",
    "#rounding off\n",
    "LinRegpredictions[:10]"
   ]
  },
  {
   "cell_type": "markdown",
   "metadata": {
    "id": "8JvMFAF4ya5-"
   },
   "source": [
    "Different Test/Train situations for Linear Regreression"
   ]
  },
  {
   "cell_type": "code",
   "execution_count": 47,
   "metadata": {
    "executionInfo": {
     "elapsed": 7507,
     "status": "aborted",
     "timestamp": 1615651669388,
     "user": {
      "displayName": "Lekuid",
      "photoUrl": "https://lh3.googleusercontent.com/a-/AOh14Gg8Q7mCM_TRC9xYBBLXEDy1ehF2yyZMRcSY8smKqpg=s64",
      "userId": "09121637735853155777"
     },
     "user_tz": -330
    },
    "id": "XpouCLAhusdP"
   },
   "outputs": [
    {
     "name": "stdout",
     "output_type": "stream",
     "text": [
      "Accuracy: 80.0% with 90.0% as training data\n",
      "Accuracy: 90.0% with 40.0% as training data\n",
      "Accuracy: 91.11% with 23.33% as training data\n",
      "Accuracy: 86.67% with 15.0% as training data\n",
      "Accuracy: 86.67% with 10.0% as training data\n",
      "Accuracy: 85.56% with 6.67% as training data\n",
      "Accuracy: 87.62% with 4.29% as training data\n",
      "Accuracy: 86.67% with 2.5% as training data\n",
      "Accuracy: 84.44% with 1.11% as training data\n"
     ]
    }
   ],
   "source": [
    "Range = 10\n",
    "for x in range(1, Range):\n",
    "  x_Train, x_Test, y_Train, y_Test = train_test_split(x_Data, y_Data, test_size=x/10)\n",
    "  TestSize = len(x_Train)/len(x_Test)\n",
    "  LinRegpredictions = Model2.predict(x_Test)\n",
    "  LinRegpredictions = [round(x) for x in LinRegpredictions]\n",
    "  print(f'Accuracy: {round(metrics.accuracy_score(y_Test, LinRegpredictions)* 100, 2)}% with {round(TestSize*10, 2)}% as training data')"
   ]
  },
  {
   "cell_type": "code",
   "execution_count": 37,
   "metadata": {
    "executionInfo": {
     "elapsed": 7498,
     "status": "aborted",
     "timestamp": 1615651669389,
     "user": {
      "displayName": "Lekuid",
      "photoUrl": "https://lh3.googleusercontent.com/a-/AOh14Gg8Q7mCM_TRC9xYBBLXEDy1ehF2yyZMRcSY8smKqpg=s64",
      "userId": "09121637735853155777"
     },
     "user_tz": -330
    },
    "id": "TSd37SaQ6Shz"
   },
   "outputs": [
    {
     "name": "stdout",
     "output_type": "stream",
     "text": [
      "[3, 1, 1, 2, 2]\n",
      "139    3\n",
      "20     1\n",
      "35     1\n",
      "58     2\n",
      "64     2\n",
      "Name: NumSp, dtype: int64\n"
     ]
    }
   ],
   "source": [
    "print(LinRegpredictions[0:5])\n",
    "print(y_Test[0:5])"
   ]
  }
 ],
 "metadata": {
  "colab": {
   "authorship_tag": "ABX9TyMvYqP6AI8O5t64XKlm9s5I",
   "collapsed_sections": [],
   "mount_file_id": "1koQP2nM4MA89mpPTqHgpRSgDtpgfJ1tX",
   "name": "Iris.ipynb",
   "provenance": [],
   "toc_visible": true
  },
  "kernelspec": {
   "display_name": "Python 3",
   "language": "python",
   "name": "python3"
  },
  "language_info": {
   "codemirror_mode": {
    "name": "ipython",
    "version": 3
   },
   "file_extension": ".py",
   "mimetype": "text/x-python",
   "name": "python",
   "nbconvert_exporter": "python",
   "pygments_lexer": "ipython3",
   "version": "3.8.5"
  }
 },
 "nbformat": 4,
 "nbformat_minor": 1
}
