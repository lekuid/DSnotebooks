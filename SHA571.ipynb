{
 "cells": [
  {
   "cell_type": "markdown",
   "id": "f68e587e-b658-4534-b39f-c5cc6b9831bc",
   "metadata": {},
   "source": [
    "# SHA571 - Understanding and Visualizing Data\n",
    "## Course Project\n",
    "\n",
    "## Goal:\n",
    "This project guides you through the process of applying a data decision framework to an\\\n",
    "important decision-making situation in your organization or career."
   ]
  },
  {
   "cell_type": "markdown",
   "id": "73b6921e-7ab0-40c5-9f2c-21b88e0c750e",
   "metadata": {},
   "source": [
    "## My Project:\n",
    "I looked at many sources of Data Science related data, but could not find anything suitable for the given scenario. So as most suited to my current situation, as a student studying Data Science, I decided to go on a job portal, learn web scraping and make my own data set which I can derive my answers from. While looking at the metrics provided in the job listings the Experience, Salary and Skills seemed to be of major importance and key insight to what I had in mind.\n",
    "\n",
    "- What are the industry requirements from a fresher?\n",
    "- What key skills are trending in the Industry as of now?\n",
    "- How does experience translate into pay grade?\n",
    "- Different skills required in different data related fields?\n",
    "\n",
    "Since I am atudent of Fine Arts my insight here is somewhat for curiosity needs, self evaluation of where data stands as a field in my country"
   ]
  },
  {
   "cell_type": "markdown",
   "id": "1d90b22b-a83e-4999-9f69-0dd0674f5a49",
   "metadata": {},
   "source": [
    "### Prerequisites"
   ]
  },
  {
   "cell_type": "code",
   "execution_count": 175,
   "id": "67489f96-5020-4942-b89e-f31636ee1aa1",
   "metadata": {},
   "outputs": [],
   "source": [
    "#For Scraping the data off the internet\n",
    "from IPython.display import clear_output\n",
    "from selenium import webdriver\n",
    "from selenium.webdriver.common.keys import Keys\n",
    "import time\n",
    "import pandas as pd\n",
    "import numpy as np\n",
    "import seaborn as sns"
   ]
  },
  {
   "cell_type": "code",
   "execution_count": 176,
   "id": "b8c2bcf5-6636-46f3-b80e-7ef9f5013a4f",
   "metadata": {},
   "outputs": [
    {
     "name": "stdin",
     "output_type": "stream",
     "text": [
      "Enter file name prefix: datajobs\n",
      "Save Directory: G:\\My Drive\\Desktop\\PGP-Data Science\\DataSets\n",
      "Enter job role: data\n"
     ]
    }
   ],
   "source": [
    "filename = str(input('Enter file name prefix:'))\n",
    "directory = str(input('Save Directory:'))\n",
    "job = str(input('Enter job role:'))"
   ]
  },
  {
   "cell_type": "markdown",
   "id": "31b65000-cd2f-4dfc-9aec-a6763e1718c2",
   "metadata": {},
   "source": [
    "### 1. Data Scraping"
   ]
  },
  {
   "cell_type": "code",
   "execution_count": 181,
   "id": "ec7ee4d1-537a-454f-84c8-1874ceb6cfd0",
   "metadata": {},
   "outputs": [],
   "source": [
    "df = pd.DataFrame(columns=['Company', 'Role', 'Experience', 'Salary', 'Location', 'Skills']) #Dataframe"
   ]
  },
  {
   "cell_type": "markdown",
   "id": "f91b22c4-8bb4-4084-a26d-aef5bd7cab1a",
   "metadata": {},
   "source": [
    "#### Scraper"
   ]
  },
  {
   "cell_type": "code",
   "execution_count": 182,
   "id": "9ce75ab8-7914-42ca-8c55-ff1c6b63086e",
   "metadata": {
    "tags": []
   },
   "outputs": [],
   "source": [
    "option = webdriver.ChromeOptions()\n",
    "option.add_argument('headless') #to run in the background to prevent accidental errors, already debugged :3\n",
    "link = f'https://www.naukri.com/{job}-jobs'\n",
    "\n",
    "def scrape():\n",
    "    global job #link is updated globally to prevent repeats on recursion\n",
    "    global df\n",
    "    global link\n",
    "    d = {}\n",
    "    driver = webdriver.Chrome(r'G:\\My Drive\\Desktop\\Tools\\chromedriver89', options=option)\n",
    "    driver.get(link); time.sleep(3) #Data being sourced from naukri.com\n",
    "    #driver.find_element_by_css_selector('input#qsb-keyword-sugg').send_keys(job)  #Fills in job variable in search\n",
    "    #driver.find_element_by_css_selector(\"form[name='quickSearchBarForm']  .btn\").click(); time.sleep(3) #SearchButton click\n",
    "\n",
    "    #Complete pagination collected to make code short and efficient\n",
    "    #Scraping all listings from the website on the given keyword\n",
    "\n",
    "    while True:\n",
    "        try:\n",
    "            clear_output()\n",
    "            print(f'{len(df)} values at URL {driver.current_url}')\n",
    "            company = [x.text for x in driver.find_elements_by_xpath(\"//div[@id='root']//div[@class='content']/section/div[@class='list']/article/div[@class='jobTupleHeader']/div[1]/div[1]/a[@title][1]\")]\n",
    "            role = [x.text for x in driver.find_elements_by_xpath(\"//div[@id='root']//div[@class='content']/section/div[@class='list']/article/div[@class='jobTupleHeader']/div[1]/a\")]\n",
    "            experience = [x.text for x in driver.find_elements_by_xpath(\"//div[@id='root']//div[@class='content']/section/div[@class='list']/article/div[@class='jobTupleHeader']/div/ul[@class='mt-7']//span\")][0::3]\n",
    "            salary = [x.text for x in driver.find_elements_by_xpath(\"//div[@id='root']//div[@class='content']/section/div[@class='list']/article/div[@class='jobTupleHeader']/div/ul[@class='mt-7']//span\")][1::3]\n",
    "            location = [x.text for x in driver.find_elements_by_xpath(\"//div[@id='root']//div[@class='content']/section/div[@class='list']/article/div[@class='jobTupleHeader']/div/ul[@class='mt-7']//span\")][2::3]\n",
    "            skills = [x.text.split('\\n') for x in driver.find_elements_by_xpath(\"//div[@id='root']//div[@class='content']/section[2]/div[@class='list']/article/ul\")]\n",
    "           \n",
    "            d.update({'Company': company, 'Role': role, 'Experience': experience, 'Salary': salary, 'Location': location, 'Skills': skills})\n",
    "            df = df.append(pd.DataFrame(d))\n",
    "\n",
    "            driver.find_element_by_css_selector('.br2.btn-secondary.fright.fs14').click(); time.sleep(2) #next page button\n",
    "            link = str(driver.current_url) #updating the link so bot continues from where it left off\n",
    "            print(f'New Link: {link}')\n",
    "            \n",
    "        \n",
    "            #raw container text but faster\n",
    "            #d +=[x.text for x in driver.find_elements_by_xpath(\"/html//div[@id='root']//div[@class='content']/section[2]/div[@class='list']/article\")]\n",
    "        except Exception as e:\n",
    "            print(e)\n",
    "            driver.find_element_by_css_selector('.br2.btn-secondary.fright.fs14').click(); time.sleep(2) #next page if current page has errors\n",
    "            link = str(driver.current_url) #link update to prevent stuck loop\n",
    "            driver.close()\n",
    "            driver.quit()\n",
    "            df.to_csv(f'{directory}\\\\{filename}_RAW.csv', index = False) #export csv on error\n",
    "            scrape() #recursion          "
   ]
  },
  {
   "cell_type": "markdown",
   "id": "df1c694f-0c4e-4eb5-95c0-a3575299d7e6",
   "metadata": {},
   "source": [
    "RAW.csv is exported from above to your defined directory.\\\n",
    "Run the cell below and wait till it is finished or youre satisfied with the entry count."
   ]
  },
  {
   "cell_type": "code",
   "execution_count": null,
   "id": "14491c3d-05ee-465b-ae25-57ca2db808ef",
   "metadata": {
    "tags": []
   },
   "outputs": [],
   "source": [
    "scrape() #Throws a giant error after scraping all possible elements, 638 pages in this case"
   ]
  },
  {
   "cell_type": "markdown",
   "id": "4c33f22b-d0ed-4d1e-ad03-cbf7a0160d4f",
   "metadata": {},
   "source": [
    "### 2. Feature Implementation"
   ]
  },
  {
   "cell_type": "code",
   "execution_count": 184,
   "id": "9b94fe43-6c1b-42db-8252-bde6aac64531",
   "metadata": {},
   "outputs": [],
   "source": [
    "data = pd.DataFrame()\n",
    "df = pd.read_csv(f'{directory}\\\\{filename}_RAW.csv') #scraping in another doc and appending to this file"
   ]
  },
  {
   "cell_type": "code",
   "execution_count": 185,
   "id": "09fb2992-ad22-4371-a541-41092a976eb3",
   "metadata": {},
   "outputs": [
    {
     "data": {
      "text/html": [
       "<div>\n",
       "<style scoped>\n",
       "    .dataframe tbody tr th:only-of-type {\n",
       "        vertical-align: middle;\n",
       "    }\n",
       "\n",
       "    .dataframe tbody tr th {\n",
       "        vertical-align: top;\n",
       "    }\n",
       "\n",
       "    .dataframe thead th {\n",
       "        text-align: right;\n",
       "    }\n",
       "</style>\n",
       "<table border=\"1\" class=\"dataframe\">\n",
       "  <thead>\n",
       "    <tr style=\"text-align: right;\">\n",
       "      <th></th>\n",
       "      <th>Company</th>\n",
       "      <th>Role</th>\n",
       "      <th>Experience</th>\n",
       "      <th>Salary</th>\n",
       "      <th>Location</th>\n",
       "      <th>Skills</th>\n",
       "    </tr>\n",
       "  </thead>\n",
       "  <tbody>\n",
       "    <tr>\n",
       "      <th>0</th>\n",
       "      <td>Mac Tech Solutions</td>\n",
       "      <td>Required DATA Entry/Computer Operator PART-FUL...</td>\n",
       "      <td>0-5 Yrs</td>\n",
       "      <td>3,00,000 - 7,00,000 PA.</td>\n",
       "      <td>Bangalore/Bengaluru, Delhi / NCR, Mumbai (All ...</td>\n",
       "      <td>['BPO', 'self employed', 'cce', 'computer oper...</td>\n",
       "    </tr>\n",
       "    <tr>\n",
       "      <th>1</th>\n",
       "      <td>Computer Operator/data Entry/bpo</td>\n",
       "      <td>Computer Operator/Data Entry/Bpo</td>\n",
       "      <td>0-3 Yrs</td>\n",
       "      <td>1,25,000 - 3,25,000 PA.</td>\n",
       "      <td>Pune</td>\n",
       "      <td>['BPO', 'data entry', 'Customer Service', 'Wor...</td>\n",
       "    </tr>\n",
       "    <tr>\n",
       "      <th>2</th>\n",
       "      <td>Mac Tech Solutions</td>\n",
       "      <td>DATA Entry/Computer Operator/WORK FROM Home/Fr...</td>\n",
       "      <td>0-5 Yrs</td>\n",
       "      <td>2,75,000 - 7,00,000 PA.</td>\n",
       "      <td>Kolkata, Hyderabad/Secunderabad, Chennai</td>\n",
       "      <td>['BPO', 'CCE', 'Non Voice Process', 'Computer ...</td>\n",
       "    </tr>\n",
       "    <tr>\n",
       "      <th>3</th>\n",
       "      <td>Inflexion Analytix Private Limited</td>\n",
       "      <td>Data Engineer/Data Analyst- Chennai</td>\n",
       "      <td>0-2 Yrs</td>\n",
       "      <td>3,50,000 - 4,25,000 PA.</td>\n",
       "      <td>Hyderabad/Secunderabad, Pune, Chennai, Bangalo...</td>\n",
       "      <td>['IT Skills', 'Python', 'Machine Learning', 'A...</td>\n",
       "    </tr>\n",
       "    <tr>\n",
       "      <th>4</th>\n",
       "      <td>data entry, back office, calling, voice, non v...</td>\n",
       "      <td>Back Office Computer Operator</td>\n",
       "      <td>0-3 Yrs</td>\n",
       "      <td>1,25,000 - 3,25,000 PA.</td>\n",
       "      <td>Pune</td>\n",
       "      <td>['BPO', 'back office', 'Email Support', 'Custo...</td>\n",
       "    </tr>\n",
       "  </tbody>\n",
       "</table>\n",
       "</div>"
      ],
      "text/plain": [
       "                                             Company  \\\n",
       "0                                 Mac Tech Solutions   \n",
       "1                   Computer Operator/data Entry/bpo   \n",
       "2                                 Mac Tech Solutions   \n",
       "3                 Inflexion Analytix Private Limited   \n",
       "4  data entry, back office, calling, voice, non v...   \n",
       "\n",
       "                                                Role Experience  \\\n",
       "0  Required DATA Entry/Computer Operator PART-FUL...    0-5 Yrs   \n",
       "1                   Computer Operator/Data Entry/Bpo    0-3 Yrs   \n",
       "2  DATA Entry/Computer Operator/WORK FROM Home/Fr...    0-5 Yrs   \n",
       "3                Data Engineer/Data Analyst- Chennai    0-2 Yrs   \n",
       "4                      Back Office Computer Operator    0-3 Yrs   \n",
       "\n",
       "                    Salary                                           Location  \\\n",
       "0  3,00,000 - 7,00,000 PA.  Bangalore/Bengaluru, Delhi / NCR, Mumbai (All ...   \n",
       "1  1,25,000 - 3,25,000 PA.                                               Pune   \n",
       "2  2,75,000 - 7,00,000 PA.           Kolkata, Hyderabad/Secunderabad, Chennai   \n",
       "3  3,50,000 - 4,25,000 PA.  Hyderabad/Secunderabad, Pune, Chennai, Bangalo...   \n",
       "4  1,25,000 - 3,25,000 PA.                                               Pune   \n",
       "\n",
       "                                              Skills  \n",
       "0  ['BPO', 'self employed', 'cce', 'computer oper...  \n",
       "1  ['BPO', 'data entry', 'Customer Service', 'Wor...  \n",
       "2  ['BPO', 'CCE', 'Non Voice Process', 'Computer ...  \n",
       "3  ['IT Skills', 'Python', 'Machine Learning', 'A...  \n",
       "4  ['BPO', 'back office', 'Email Support', 'Custo...  "
      ]
     },
     "execution_count": 185,
     "metadata": {},
     "output_type": "execute_result"
    }
   ],
   "source": [
    "df.head(5)"
   ]
  },
  {
   "cell_type": "markdown",
   "id": "0a7f084b-288f-4ff4-8c2e-3f82b0325952",
   "metadata": {},
   "source": [
    "#### Observed feature implementations:\n",
    "1. A major portion of the salary is not disclosed by the job poster but for the ones that do have salaries monetioned need to be split into min and max for each.\n",
    "2. The experience requirements needs to split into min and max for each.\n",
    "3. Roles need to be cleaned up in some way that makes sense.\n",
    "5. City can be cleaned up or possibly split into seperate rows for each.\n",
    "6. Skills need to be divided into columns of unique values for list in each row.\n",
    "7. The misc column is a mix of job ListingType and ListingAge. Edit: Removed from scraping as 30days and above says 30+ Days :/"
   ]
  },
  {
   "cell_type": "code",
   "execution_count": 186,
   "id": "3595b806-bdbf-42d3-955c-157396e93cf9",
   "metadata": {
    "tags": []
   },
   "outputs": [
    {
     "data": {
      "text/html": [
       "<div>\n",
       "<style scoped>\n",
       "    .dataframe tbody tr th:only-of-type {\n",
       "        vertical-align: middle;\n",
       "    }\n",
       "\n",
       "    .dataframe tbody tr th {\n",
       "        vertical-align: top;\n",
       "    }\n",
       "\n",
       "    .dataframe thead th {\n",
       "        text-align: right;\n",
       "    }\n",
       "</style>\n",
       "<table border=\"1\" class=\"dataframe\">\n",
       "  <thead>\n",
       "    <tr style=\"text-align: right;\">\n",
       "      <th></th>\n",
       "      <th>Company</th>\n",
       "      <th>Role</th>\n",
       "      <th>Experience</th>\n",
       "      <th>Salary</th>\n",
       "      <th>Location</th>\n",
       "      <th>Skills</th>\n",
       "    </tr>\n",
       "  </thead>\n",
       "  <tbody>\n",
       "    <tr>\n",
       "      <th>count</th>\n",
       "      <td>152412</td>\n",
       "      <td>152412</td>\n",
       "      <td>152412</td>\n",
       "      <td>152412</td>\n",
       "      <td>152412</td>\n",
       "      <td>152412</td>\n",
       "    </tr>\n",
       "    <tr>\n",
       "      <th>unique</th>\n",
       "      <td>13103</td>\n",
       "      <td>32006</td>\n",
       "      <td>243</td>\n",
       "      <td>556</td>\n",
       "      <td>3186</td>\n",
       "      <td>48190</td>\n",
       "    </tr>\n",
       "    <tr>\n",
       "      <th>top</th>\n",
       "      <td>Accenture Solutions Pvt Ltd</td>\n",
       "      <td>Data Scientist</td>\n",
       "      <td>5-10 Yrs</td>\n",
       "      <td>Not disclosed</td>\n",
       "      <td>Bangalore/Bengaluru</td>\n",
       "      <td>['Help Desk', 'Customer Service', 'data analys...</td>\n",
       "    </tr>\n",
       "    <tr>\n",
       "      <th>freq</th>\n",
       "      <td>8708</td>\n",
       "      <td>1541</td>\n",
       "      <td>10957</td>\n",
       "      <td>135317</td>\n",
       "      <td>42997</td>\n",
       "      <td>514</td>\n",
       "    </tr>\n",
       "  </tbody>\n",
       "</table>\n",
       "</div>"
      ],
      "text/plain": [
       "                            Company            Role Experience         Salary  \\\n",
       "count                        152412          152412     152412         152412   \n",
       "unique                        13103           32006        243            556   \n",
       "top     Accenture Solutions Pvt Ltd  Data Scientist   5-10 Yrs  Not disclosed   \n",
       "freq                           8708            1541      10957         135317   \n",
       "\n",
       "                   Location                                             Skills  \n",
       "count                152412                                             152412  \n",
       "unique                 3186                                              48190  \n",
       "top     Bangalore/Bengaluru  ['Help Desk', 'Customer Service', 'data analys...  \n",
       "freq                  42997                                                514  "
      ]
     },
     "execution_count": 186,
     "metadata": {},
     "output_type": "execute_result"
    }
   ],
   "source": [
    "df.describe()"
   ]
  },
  {
   "cell_type": "markdown",
   "id": "101b097f-2154-44a2-a8c0-96c475fe76b7",
   "metadata": {},
   "source": [
    "#### PreCleanup Notes:\n",
    "1. The brand with most data science jobroles open is Accenture which is involved in consultancy services.\n",
    "2. Most seeked out role is of an Analyst\n",
    "3. Best city to be in for Data Science is Bangalore, which was predictable being the technological hub.\n",
    "4. Skills are in lists so frequency doesn't make any differnce"
   ]
  },
  {
   "cell_type": "code",
   "execution_count": 187,
   "id": "82b72f38-328f-465b-b8f3-f62d8b2da095",
   "metadata": {},
   "outputs": [],
   "source": [
    "data['Company'] = df['Company']"
   ]
  },
  {
   "cell_type": "code",
   "execution_count": 188,
   "id": "99ff3143-5d54-4ec6-9e26-fd9460a029f8",
   "metadata": {
    "tags": []
   },
   "outputs": [
    {
     "data": {
      "text/plain": [
       "array(['0-5 Yrs', '0-3 Yrs', '0-2 Yrs', '0-4 Yrs', '0-1 Yrs', '4-9 Yrs',\n",
       "       '4-7 Yrs', '5-10 Yrs', '10-20 Yrs', '12 April - 21 April',\n",
       "       '3-6 Yrs', '0-10 Yrs', '16 April - 25 April', '2-5 Yrs', '4-8 Yrs',\n",
       "       '2-6 Yrs', '2-7 Yrs', '20 April - 22 April', '1-5 Yrs', '7-12 Yrs',\n",
       "       '4-6 Yrs', '3-5 Yrs', '6-9 Yrs', '3-4 Yrs', '10-15 Yrs', '3-8 Yrs',\n",
       "       '5-8 Yrs', '3-7 Yrs', '6-8 Yrs', '5-7 Yrs', '1-6 Yrs', '1-4 Yrs',\n",
       "       '12-14 Yrs', '10-12 Yrs', '10-13 Yrs', '8-13 Yrs', '8-10 Yrs',\n",
       "       '3-10 Yrs', '2-10 Yrs', '0-6 Yrs', '2-4 Yrs', '1-3 Yrs',\n",
       "       '6-10 Yrs', '12-22 Yrs', '20 April - 24 April', '8-12 Yrs',\n",
       "       '12-15 Yrs', '7-9 Yrs', '7-10 Yrs', '9-12 Yrs', '10-14 Yrs',\n",
       "       '5-9 Yrs', '7-11 Yrs', '5-6 Yrs', '4-5 Yrs', '0-0 Yrs', '9-14 Yrs',\n",
       "       'PG Diploma, M.Tech, Diploma, B.Tech/B.E.', '6-11 Yrs', '2-3 Yrs',\n",
       "       '15-18 Yrs', '15-17 Yrs', '5-12 Yrs', '12-18 Yrs', '3-13 Yrs',\n",
       "       '10-16 Yrs', '1-2 Yrs', '6-12 Yrs', '19 April - 23 April',\n",
       "       '12-17 Yrs', '3-3 Yrs', '10-18 Yrs', '7-8 Yrs', '2-8 Yrs',\n",
       "       '5-14 Yrs', '4-10 Yrs', '15-22 Yrs', '5-5 Yrs', '15-19 Yrs',\n",
       "       '11-15 Yrs', '14-20 Yrs', '11-20 Yrs', '13-18 Yrs', '15-20 Yrs',\n",
       "       '18-20 Yrs', '10-17 Yrs', '11-16 Yrs', '12-16 Yrs', '7-15 Yrs',\n",
       "       '13-20 Yrs', '16-20 Yrs', '15-25 Yrs', '8-15 Yrs', '0-7 Yrs',\n",
       "       '16-18 Yrs', '20-25 Yrs', '15-24 Yrs', '13-22 Yrs', '0-8 Yrs',\n",
       "       '13 April - 22 April', '14-21 Yrs', '19 April - 28 April',\n",
       "       '9-15 Yrs', '8-9 Yrs', '9-13 Yrs', '12-20 Yrs', '8-11 Yrs',\n",
       "       '2-9 Yrs', '1-7 Yrs', '13-15 Yrs', '14-18 Yrs', '17-23 Yrs',\n",
       "       '8-14 Yrs', '7-13 Yrs', '4-12 Yrs', '8-18 Yrs', '12-19 Yrs',\n",
       "       '9-10 Yrs', '13-19 Yrs', '6-7 Yrs', '5-11 Yrs', '2-12 Yrs',\n",
       "       '3-9 Yrs', '18-22 Yrs', '19-20 Yrs', '11-17 Yrs', '13-17 Yrs',\n",
       "       '15-16 Yrs', '14-19 Yrs', '4-15 Yrs', '17-24 Yrs', '10-10 Yrs',\n",
       "       '5-15 Yrs', '30 April', '0-9 Yrs', '23 April', '7-7 Yrs',\n",
       "       '6-15 Yrs', '1-8 Yrs', '1-1 Yrs', '9-11 Yrs', '3-15 Yrs',\n",
       "       '4-13 Yrs', '0-12 Yrs', '11-18 Yrs', '0-14 Yrs', '11-13 Yrs',\n",
       "       '9-9 Yrs', 'Any Postgraduate, Any Graduate', '7-14 Yrs',\n",
       "       '14-17 Yrs', '15 April - 24 April', '12-13 Yrs', '14-16 Yrs',\n",
       "       '20-21 Yrs', '1-18 Yrs', 'CA', '20-27 Yrs', '14-15 Yrs',\n",
       "       '16-25 Yrs', '17-22 Yrs', '17 April - 26 April',\n",
       "       '20 April - 29 April', '19 April - 21 April',\n",
       "       '21 April - 27 April', '22 April - 23 April', '3-12 Yrs',\n",
       "       '10-11 Yrs', '13 April - 20 April', '5-18 Yrs', '12-21 Yrs',\n",
       "       '13-16 Yrs', '19 April - 24 April', '21 April - 25 April',\n",
       "       '16 April - 23 April', '15 April - 22 April', '13-23 Yrs',\n",
       "       '11-14 Yrs', '4-16 Yrs', '1-10 Yrs', '22 April - 01 May',\n",
       "       '1-9 Yrs', '15 April - 21 April', '15 April - 20 April',\n",
       "       '15-21 Yrs', 'MS/M.Sc(Science), Any Graduate',\n",
       "       '21 April - 28 April', '11-12 Yrs', '14-24 Yrs', '5-13 Yrs',\n",
       "       '2-15 Yrs', '6-14 Yrs', '10-19 Yrs', '18-25 Yrs',\n",
       "       'MBA/PGDM, B.Tech/B.E.', '17-20 Yrs', '18-23 Yrs', '4-14 Yrs',\n",
       "       '11-21 Yrs', '20-30 Yrs', '20 April', '21 April',\n",
       "       '21 April - 22 April', '6-13 Yrs',\n",
       "       'M.Tech, PG Diploma, B.Tech/B.E., Diploma', '22 April',\n",
       "       '18-28 Yrs', '19-29 Yrs', '2-2 Yrs', '21 April - 30 April',\n",
       "       '22 April - 24 April', '21 April - 26 April',\n",
       "       'MS/M.Sc(Science), M.Tech, Any Graduate', '15-23 Yrs', '4-4 Yrs',\n",
       "       '5-17 Yrs', '16-22 Yrs', 'B.Tech/B.E.', '20 April - 28 April',\n",
       "       '16-26 Yrs', '19 April - 22 April', '5-20 Yrs',\n",
       "       '17 April - 23 April', '17 April - 24 April',\n",
       "       '13 April - 23 April', '0-18 Yrs', 'MBA/PGDM', '4-11 Yrs',\n",
       "       '21-21 Yrs', '2-25 Yrs', '17-27 Yrs', 'MBA/PGDM, Any Graduate',\n",
       "       'Any Postgraduate, Post Graduation Not Required, Any Graduate',\n",
       "       'M.Tech, MCA, MS/M.Sc(Science), B.Tech/B.E.',\n",
       "       'MBA/PGDM, PG Diploma, Any Graduate', '19-24 Yrs', '8-16 Yrs',\n",
       "       '7-17 Yrs', '14-22 Yrs', '14 April - 23 April',\n",
       "       'Any Postgraduate, MBA/PGDM, B.Tech/B.E.',\n",
       "       'MBA/PGDM, Any Postgraduate, B.Tech/B.E.', '18 April - 21 April'],\n",
       "      dtype=object)"
      ]
     },
     "execution_count": 188,
     "metadata": {},
     "output_type": "execute_result"
    }
   ],
   "source": [
    "df['Experience'].unique() #two stray elements..."
   ]
  },
  {
   "cell_type": "code",
   "execution_count": 152,
   "id": "f40d26cd-6eb7-415f-9a95-c9197afa1884",
   "metadata": {
    "tags": []
   },
   "outputs": [],
   "source": [
    "#print(df[df['Experience'] == 'M.Pharma, B.Pharma, Diploma'].index)\n",
    "#print(df[df['Experience'] == 'Any Graduate'].index)\n",
    "#print(df[df['Experience'].str.contains('April')].index)\n",
    "#df = df.drop(index=[1400, 1401, 1607, 5712, 5719, 5721, 5724, 5725, 6379, 6389]) #cleaning up\n",
    "#df['Experience'].unique()"
   ]
  },
  {
   "cell_type": "code",
   "execution_count": 189,
   "id": "32adefbd-a88f-4a8c-9cdb-f103dadb188c",
   "metadata": {},
   "outputs": [
    {
     "data": {
      "text/plain": [
       "'0'"
      ]
     },
     "execution_count": 189,
     "metadata": {},
     "output_type": "execute_result"
    }
   ],
   "source": [
    "df['Experience'][14].split('-')[0]"
   ]
  },
  {
   "cell_type": "code",
   "execution_count": 190,
   "id": "e8680a4b-6848-4058-a48b-50d143691276",
   "metadata": {},
   "outputs": [],
   "source": [
    "data['MinExp'] = df['Experience'].apply(lambda x: int(x.split('-')[0]) if x.split('-')[0].isnumeric() else 0)"
   ]
  },
  {
   "cell_type": "code",
   "execution_count": 191,
   "id": "ca8b91a3-457f-4b37-b353-0d5199552b39",
   "metadata": {},
   "outputs": [
    {
     "data": {
      "text/plain": [
       "array([ 0,  4,  5, 10,  3,  2,  1,  7,  6, 12,  8,  9, 15, 11, 14, 13, 18,\n",
       "       16, 20, 17, 19, 21], dtype=int64)"
      ]
     },
     "execution_count": 191,
     "metadata": {},
     "output_type": "execute_result"
    }
   ],
   "source": [
    "data['MinExp'].unique()"
   ]
  },
  {
   "cell_type": "code",
   "execution_count": 192,
   "id": "5239b010-e351-4131-a5a8-1bf130fca1a1",
   "metadata": {
    "tags": []
   },
   "outputs": [
    {
     "data": {
      "text/plain": [
       "array(['Bangalore/Bengaluru, Delhi / NCR, Mumbai (All Areas)', 'Pune',\n",
       "       'Kolkata, Hyderabad/Secunderabad, Chennai',\n",
       "       'Hyderabad/Secunderabad, Pune, Chennai, Bangalore/Bengaluru',\n",
       "       'Faridabad', 'Pune, Ahmedabad, Gurgaon/Gurugram',\n",
       "       'Ahmedabad(Ghatlodia)', 'Chennai', 'Surat', 'Bangalore/Bengaluru',\n",
       "       'Kolkata, Ahmedabad, Chennai, Bangalore/Bengaluru, Mumbai (All Areas)',\n",
       "       'Noida, Delhi / NCR', 'Hyderabad/Secunderabad',\n",
       "       'New Delhi(Jhilmil Industrial Area)',\n",
       "       'Kodangal, Patancheru, Hyderabad/Secunderabad, Medchal, Sadasivpet',\n",
       "       'Gurgaon/Gurugram', 'Bengaluru', 'Mumbai (All Areas)',\n",
       "       'Hyderabad/Secunderabad, Bangalore/Bengaluru', 'Salem'],\n",
       "      dtype=object)"
      ]
     },
     "execution_count": 192,
     "metadata": {},
     "output_type": "execute_result"
    }
   ],
   "source": [
    "df['Location'].unique()[0:20]"
   ]
  },
  {
   "cell_type": "code",
   "execution_count": 193,
   "id": "2773f7be-58b7-4379-ab5f-726833beb3a2",
   "metadata": {},
   "outputs": [
    {
     "data": {
      "text/plain": [
       "array(['Bangalore', 'Pune', 'Kolkata', 'Hyderabad', 'Faridabad',\n",
       "       'Ahmedabad', 'Chennai', 'Surat', 'Noida', 'New', 'Kodangal',\n",
       "       'Gurgaon', 'Bengaluru', 'Mumbai', 'Salem', 'Visakhapatnam',\n",
       "       'Pimpri-Chinchwad', 'Kalyan', 'Bellary', 'Jalandhar'], dtype=object)"
      ]
     },
     "execution_count": 193,
     "metadata": {},
     "output_type": "execute_result"
    }
   ],
   "source": [
    "data['Loc'] = df['Location'].apply(lambda x: x.split(',')[0]) #City of company\n",
    "#data['Loc2'] = df['Location'].apply(lambda x: x.split(',')[1] if len(x.split(','))>1 else None) #Second mentioned city\n",
    "data['Loc'] = data['Loc'].apply(lambda x: x.split(' ')[0])\n",
    "data['Loc'] = data['Loc'].apply(lambda x: x.split('/')[0])\n",
    "data['Loc'] = data['Loc'].apply(lambda x: x.split('(')[0])\n",
    "data['Loc'].unique()[0:20]"
   ]
  },
  {
   "cell_type": "markdown",
   "id": "a4c04f2d-21dc-49ec-b4a7-5fe142bf5aa9",
   "metadata": {},
   "source": [
    "Second cities are siginificanly lower so no point in keeping it as a factor"
   ]
  },
  {
   "cell_type": "code",
   "execution_count": 194,
   "id": "5957fb79-e188-4493-8d18-8e496a4e6def",
   "metadata": {},
   "outputs": [
    {
     "name": "stdout",
     "output_type": "stream",
     "text": [
      "<class 'pandas.core.frame.DataFrame'>\n",
      "RangeIndex: 152412 entries, 0 to 152411\n",
      "Data columns (total 3 columns):\n",
      " #   Column   Non-Null Count   Dtype \n",
      "---  ------   --------------   ----- \n",
      " 0   Company  152412 non-null  object\n",
      " 1   MinExp   152412 non-null  int64 \n",
      " 2   Loc      152412 non-null  object\n",
      "dtypes: int64(1), object(2)\n",
      "memory usage: 3.5+ MB\n"
     ]
    }
   ],
   "source": [
    "data.info()"
   ]
  },
  {
   "cell_type": "code",
   "execution_count": 195,
   "id": "a48fa679-7a55-4d40-9da9-cdc4e24340c5",
   "metadata": {},
   "outputs": [],
   "source": [
    "#data = data.drop('Loc2', axis=1)\n",
    "#data['Loc'].unique()[0:20]"
   ]
  },
  {
   "cell_type": "code",
   "execution_count": 196,
   "id": "6b6d29c2-ebd4-43f4-a2c5-e92962062642",
   "metadata": {},
   "outputs": [
    {
     "data": {
      "text/plain": [
       "\"['BPO', 'data entry', 'Customer Service', 'Word', 'MNC', 'Computer Operating', 'Data Maintenance', 'Voice Process']\""
      ]
     },
     "execution_count": 196,
     "metadata": {},
     "output_type": "execute_result"
    }
   ],
   "source": [
    "df['Skills'][1] #skill splitting was not working"
   ]
  },
  {
   "cell_type": "markdown",
   "id": "0b7c785a-d52d-4bc0-bf04-7a5e3bef62d2",
   "metadata": {},
   "source": [
    "I have no clue why this was scraped and appended as a string..."
   ]
  },
  {
   "cell_type": "code",
   "execution_count": 197,
   "id": "0240a48d-0f6f-4e3a-af08-43452f73683a",
   "metadata": {},
   "outputs": [
    {
     "data": {
      "text/plain": [
       "['BPO',\n",
       " 'data entry',\n",
       " 'Customer Service',\n",
       " 'Word',\n",
       " 'MNC',\n",
       " 'Computer Operating',\n",
       " 'Data Maintenance',\n",
       " 'Voice Process']"
      ]
     },
     "execution_count": 197,
     "metadata": {},
     "output_type": "execute_result"
    }
   ],
   "source": [
    "df['Skills'][1].strip('][').replace(\"'\", \"\").split(', ') #Why was is this a string...?"
   ]
  },
  {
   "cell_type": "code",
   "execution_count": 198,
   "id": "dc605cfd-2857-4683-9331-dac5e8626c1b",
   "metadata": {},
   "outputs": [],
   "source": [
    "for y in range(1, 9): #iterating the column names, converting the string to a formatted list, appending based on position in list.\n",
    "    data[f'Skill{y}'] = df['Skills'].apply(lambda x: x.strip(\"][\").replace(\"'\", \"\").split(',')[y].lower()\\\n",
    "                                           if len(x.strip('][').split(', '))>y else None) #added lowercaseonly and got siginificant changes in "
   ]
  },
  {
   "cell_type": "markdown",
   "id": "1c0c4b3d-bd6b-4381-b93a-c391c4eaf033",
   "metadata": {},
   "source": [
    "Note: Added lower case only and got siginificant changes in Visualization output on Tableau. Intersting fact."
   ]
  },
  {
   "cell_type": "code",
   "execution_count": 199,
   "id": "faa9b559-8655-4ef4-9726-c1bf0c2ef4f5",
   "metadata": {},
   "outputs": [
    {
     "name": "stdout",
     "output_type": "stream",
     "text": [
      "<class 'pandas.core.frame.DataFrame'>\n",
      "RangeIndex: 152412 entries, 0 to 152411\n",
      "Data columns (total 11 columns):\n",
      " #   Column   Non-Null Count   Dtype \n",
      "---  ------   --------------   ----- \n",
      " 0   Company  152412 non-null  object\n",
      " 1   MinExp   152412 non-null  int64 \n",
      " 2   Loc      152412 non-null  object\n",
      " 3   Skill1   150994 non-null  object\n",
      " 4   Skill2   149679 non-null  object\n",
      " 5   Skill3   146975 non-null  object\n",
      " 6   Skill4   143542 non-null  object\n",
      " 7   Skill5   139412 non-null  object\n",
      " 8   Skill6   134162 non-null  object\n",
      " 9   Skill7   127982 non-null  object\n",
      " 10  Skill8   4 non-null       object\n",
      "dtypes: int64(1), object(10)\n",
      "memory usage: 12.8+ MB\n"
     ]
    }
   ],
   "source": [
    "data.info()"
   ]
  },
  {
   "cell_type": "markdown",
   "id": "51662f56-852b-4569-a91c-bd795ee8585e",
   "metadata": {},
   "source": [
    "Number of skills have already been taken care off by skipping posts with too many requirements, there is just one post with a special skill...."
   ]
  },
  {
   "cell_type": "code",
   "execution_count": 200,
   "id": "2acbcf22-0bab-4e94-8937-1b4c83cc1067",
   "metadata": {},
   "outputs": [
    {
     "data": {
      "text/html": [
       "<div>\n",
       "<style scoped>\n",
       "    .dataframe tbody tr th:only-of-type {\n",
       "        vertical-align: middle;\n",
       "    }\n",
       "\n",
       "    .dataframe tbody tr th {\n",
       "        vertical-align: top;\n",
       "    }\n",
       "\n",
       "    .dataframe thead th {\n",
       "        text-align: right;\n",
       "    }\n",
       "</style>\n",
       "<table border=\"1\" class=\"dataframe\">\n",
       "  <thead>\n",
       "    <tr style=\"text-align: right;\">\n",
       "      <th></th>\n",
       "      <th>Company</th>\n",
       "      <th>MinExp</th>\n",
       "      <th>Loc</th>\n",
       "      <th>Skill1</th>\n",
       "      <th>Skill2</th>\n",
       "      <th>Skill3</th>\n",
       "      <th>Skill4</th>\n",
       "      <th>Skill5</th>\n",
       "      <th>Skill6</th>\n",
       "      <th>Skill7</th>\n",
       "      <th>Skill8</th>\n",
       "    </tr>\n",
       "  </thead>\n",
       "  <tbody>\n",
       "    <tr>\n",
       "      <th>23398</th>\n",
       "      <td>Ekennis Software Services Pvt Ltd</td>\n",
       "      <td>4</td>\n",
       "      <td>Jaipur</td>\n",
       "      <td>bct configuration</td>\n",
       "      <td>teamcenter 11 x</td>\n",
       "      <td>fms configuration</td>\n",
       "      <td>itk customization</td>\n",
       "      <td>teamcenter architecture ( 2t</td>\n",
       "      <td>4t )</td>\n",
       "      <td>jsp</td>\n",
       "      <td>acl</td>\n",
       "    </tr>\n",
       "    <tr>\n",
       "      <th>23442</th>\n",
       "      <td>Ekennis Software Services Pvt Ltd</td>\n",
       "      <td>4</td>\n",
       "      <td>Jaipur</td>\n",
       "      <td>bct configuration</td>\n",
       "      <td>teamcenter 11 x</td>\n",
       "      <td>fms configuration</td>\n",
       "      <td>itk customization</td>\n",
       "      <td>teamcenter architecture ( 2t</td>\n",
       "      <td>4t )</td>\n",
       "      <td>jsp</td>\n",
       "      <td>acl</td>\n",
       "    </tr>\n",
       "    <tr>\n",
       "      <th>48895</th>\n",
       "      <td>Ekennis Software Services Pvt Ltd</td>\n",
       "      <td>4</td>\n",
       "      <td>Jaipur</td>\n",
       "      <td>bct configuration</td>\n",
       "      <td>teamcenter 11 x</td>\n",
       "      <td>fms configuration</td>\n",
       "      <td>itk customization</td>\n",
       "      <td>teamcenter architecture ( 2t</td>\n",
       "      <td>4t )</td>\n",
       "      <td>jsp</td>\n",
       "      <td>acl</td>\n",
       "    </tr>\n",
       "    <tr>\n",
       "      <th>92985</th>\n",
       "      <td>Ekennis Software Services Pvt Ltd</td>\n",
       "      <td>4</td>\n",
       "      <td>Jaipur</td>\n",
       "      <td>bct configuration</td>\n",
       "      <td>teamcenter 11 x</td>\n",
       "      <td>fms configuration</td>\n",
       "      <td>itk customization</td>\n",
       "      <td>teamcenter architecture ( 2t</td>\n",
       "      <td>4t )</td>\n",
       "      <td>jsp</td>\n",
       "      <td>acl</td>\n",
       "    </tr>\n",
       "  </tbody>\n",
       "</table>\n",
       "</div>"
      ],
      "text/plain": [
       "                                 Company  MinExp     Loc              Skill1  \\\n",
       "23398  Ekennis Software Services Pvt Ltd       4  Jaipur   bct configuration   \n",
       "23442  Ekennis Software Services Pvt Ltd       4  Jaipur   bct configuration   \n",
       "48895  Ekennis Software Services Pvt Ltd       4  Jaipur   bct configuration   \n",
       "92985  Ekennis Software Services Pvt Ltd       4  Jaipur   bct configuration   \n",
       "\n",
       "                 Skill2              Skill3              Skill4  \\\n",
       "23398   teamcenter 11 x   fms configuration   itk customization   \n",
       "23442   teamcenter 11 x   fms configuration   itk customization   \n",
       "48895   teamcenter 11 x   fms configuration   itk customization   \n",
       "92985   teamcenter 11 x   fms configuration   itk customization   \n",
       "\n",
       "                              Skill5 Skill6 Skill7 Skill8  \n",
       "23398   teamcenter architecture ( 2t   4t )    jsp    acl  \n",
       "23442   teamcenter architecture ( 2t   4t )    jsp    acl  \n",
       "48895   teamcenter architecture ( 2t   4t )    jsp    acl  \n",
       "92985   teamcenter architecture ( 2t   4t )    jsp    acl  "
      ]
     },
     "execution_count": 200,
     "metadata": {},
     "output_type": "execute_result"
    }
   ],
   "source": [
    "data[data['Skill8'].notnull()]"
   ]
  },
  {
   "cell_type": "markdown",
   "id": "6b537e77-295a-46d9-867e-e4c666f5d82d",
   "metadata": {},
   "source": [
    "The magical skill is OLAP, need to google what that is. xD"
   ]
  },
  {
   "cell_type": "code",
   "execution_count": 201,
   "id": "140cf65e-73f9-4dbb-b74e-b1b31c6d47bd",
   "metadata": {},
   "outputs": [],
   "source": [
    "data = data.drop('Skill8', axis=1)"
   ]
  },
  {
   "cell_type": "markdown",
   "id": "9fcef517-3e90-4fc7-ae5b-1a05b7a7076e",
   "metadata": {},
   "source": [
    "Now need to extract the salary but it is mostly filled with 'NotDisclosed' values and is it possible to extract the same using the skills by correlating it?...."
   ]
  },
  {
   "cell_type": "code",
   "execution_count": 202,
   "id": "c095e3ef-497e-4336-bfd0-f402baeafb47",
   "metadata": {},
   "outputs": [
    {
     "name": "stdout",
     "output_type": "stream",
     "text": [
      "<class 'pandas.core.frame.DataFrame'>\n",
      "RangeIndex: 152412 entries, 0 to 152411\n",
      "Data columns (total 10 columns):\n",
      " #   Column   Non-Null Count   Dtype \n",
      "---  ------   --------------   ----- \n",
      " 0   Company  152412 non-null  object\n",
      " 1   MinExp   152412 non-null  int64 \n",
      " 2   Loc      152412 non-null  object\n",
      " 3   Skill1   152412 non-null  object\n",
      " 4   Skill2   152412 non-null  object\n",
      " 5   Skill3   152412 non-null  object\n",
      " 6   Skill4   152412 non-null  object\n",
      " 7   Skill5   152412 non-null  object\n",
      " 8   Skill6   152412 non-null  object\n",
      " 9   Skill7   152412 non-null  object\n",
      "dtypes: int64(1), object(9)\n",
      "memory usage: 11.6+ MB\n"
     ]
    }
   ],
   "source": [
    "data = data.fillna('None') #all categorical columns\n",
    "data.info()"
   ]
  },
  {
   "cell_type": "code",
   "execution_count": 203,
   "id": "aee64f05-b2e6-43ce-a345-3eec057b77a9",
   "metadata": {},
   "outputs": [
    {
     "data": {
      "text/html": [
       "<div>\n",
       "<style scoped>\n",
       "    .dataframe tbody tr th:only-of-type {\n",
       "        vertical-align: middle;\n",
       "    }\n",
       "\n",
       "    .dataframe tbody tr th {\n",
       "        vertical-align: top;\n",
       "    }\n",
       "\n",
       "    .dataframe thead th {\n",
       "        text-align: right;\n",
       "    }\n",
       "</style>\n",
       "<table border=\"1\" class=\"dataframe\">\n",
       "  <thead>\n",
       "    <tr style=\"text-align: right;\">\n",
       "      <th></th>\n",
       "      <th>Company</th>\n",
       "      <th>Role</th>\n",
       "      <th>Experience</th>\n",
       "      <th>Salary</th>\n",
       "      <th>Location</th>\n",
       "      <th>Skills</th>\n",
       "    </tr>\n",
       "  </thead>\n",
       "  <tbody>\n",
       "    <tr>\n",
       "      <th>0</th>\n",
       "      <td>Mac Tech Solutions</td>\n",
       "      <td>Required DATA Entry/Computer Operator PART-FUL...</td>\n",
       "      <td>0-5 Yrs</td>\n",
       "      <td>3,00,000 - 7,00,000 PA.</td>\n",
       "      <td>Bangalore/Bengaluru, Delhi / NCR, Mumbai (All ...</td>\n",
       "      <td>['BPO', 'self employed', 'cce', 'computer oper...</td>\n",
       "    </tr>\n",
       "    <tr>\n",
       "      <th>1</th>\n",
       "      <td>Computer Operator/data Entry/bpo</td>\n",
       "      <td>Computer Operator/Data Entry/Bpo</td>\n",
       "      <td>0-3 Yrs</td>\n",
       "      <td>1,25,000 - 3,25,000 PA.</td>\n",
       "      <td>Pune</td>\n",
       "      <td>['BPO', 'data entry', 'Customer Service', 'Wor...</td>\n",
       "    </tr>\n",
       "    <tr>\n",
       "      <th>2</th>\n",
       "      <td>Mac Tech Solutions</td>\n",
       "      <td>DATA Entry/Computer Operator/WORK FROM Home/Fr...</td>\n",
       "      <td>0-5 Yrs</td>\n",
       "      <td>2,75,000 - 7,00,000 PA.</td>\n",
       "      <td>Kolkata, Hyderabad/Secunderabad, Chennai</td>\n",
       "      <td>['BPO', 'CCE', 'Non Voice Process', 'Computer ...</td>\n",
       "    </tr>\n",
       "  </tbody>\n",
       "</table>\n",
       "</div>"
      ],
      "text/plain": [
       "                            Company  \\\n",
       "0                Mac Tech Solutions   \n",
       "1  Computer Operator/data Entry/bpo   \n",
       "2                Mac Tech Solutions   \n",
       "\n",
       "                                                Role Experience  \\\n",
       "0  Required DATA Entry/Computer Operator PART-FUL...    0-5 Yrs   \n",
       "1                   Computer Operator/Data Entry/Bpo    0-3 Yrs   \n",
       "2  DATA Entry/Computer Operator/WORK FROM Home/Fr...    0-5 Yrs   \n",
       "\n",
       "                    Salary                                           Location  \\\n",
       "0  3,00,000 - 7,00,000 PA.  Bangalore/Bengaluru, Delhi / NCR, Mumbai (All ...   \n",
       "1  1,25,000 - 3,25,000 PA.                                               Pune   \n",
       "2  2,75,000 - 7,00,000 PA.           Kolkata, Hyderabad/Secunderabad, Chennai   \n",
       "\n",
       "                                              Skills  \n",
       "0  ['BPO', 'self employed', 'cce', 'computer oper...  \n",
       "1  ['BPO', 'data entry', 'Customer Service', 'Wor...  \n",
       "2  ['BPO', 'CCE', 'Non Voice Process', 'Computer ...  "
      ]
     },
     "execution_count": 203,
     "metadata": {},
     "output_type": "execute_result"
    }
   ],
   "source": [
    "df.head(3)"
   ]
  },
  {
   "cell_type": "code",
   "execution_count": 204,
   "id": "b2fe03ac-66e1-4570-8f1e-efe0c521df58",
   "metadata": {},
   "outputs": [],
   "source": [
    "data['Pay'] = df['Salary'].apply(lambda x: int(x.split(' ')[0].replace(',', '')) if len(x.split(' '))>2 else 'None')\n",
    "data['MaxPay'] = df['Salary'].apply(lambda x: int(x.split(' ')[2].replace(',', '')) if len(x.split(' '))>2 and  x.split(' ')[2].replace(',', '').isnumeric() else 'None')"
   ]
  },
  {
   "cell_type": "code",
   "execution_count": 205,
   "id": "09777de5-4ccb-40ce-8b63-58b2a719733e",
   "metadata": {},
   "outputs": [
    {
     "data": {
      "text/html": [
       "<div>\n",
       "<style scoped>\n",
       "    .dataframe tbody tr th:only-of-type {\n",
       "        vertical-align: middle;\n",
       "    }\n",
       "\n",
       "    .dataframe tbody tr th {\n",
       "        vertical-align: top;\n",
       "    }\n",
       "\n",
       "    .dataframe thead th {\n",
       "        text-align: right;\n",
       "    }\n",
       "</style>\n",
       "<table border=\"1\" class=\"dataframe\">\n",
       "  <thead>\n",
       "    <tr style=\"text-align: right;\">\n",
       "      <th></th>\n",
       "      <th>Company</th>\n",
       "      <th>MinExp</th>\n",
       "      <th>Loc</th>\n",
       "      <th>Skill1</th>\n",
       "      <th>Skill2</th>\n",
       "      <th>Skill3</th>\n",
       "      <th>Skill4</th>\n",
       "      <th>Skill5</th>\n",
       "      <th>Skill6</th>\n",
       "      <th>Skill7</th>\n",
       "      <th>Pay</th>\n",
       "      <th>MaxPay</th>\n",
       "    </tr>\n",
       "  </thead>\n",
       "  <tbody>\n",
       "    <tr>\n",
       "      <th>0</th>\n",
       "      <td>Mac Tech Solutions</td>\n",
       "      <td>0</td>\n",
       "      <td>Bangalore</td>\n",
       "      <td>self employed</td>\n",
       "      <td>cce</td>\n",
       "      <td>computer operator</td>\n",
       "      <td>non voice process</td>\n",
       "      <td>customer care</td>\n",
       "      <td>computer operating</td>\n",
       "      <td>non voice</td>\n",
       "      <td>300000</td>\n",
       "      <td>700000</td>\n",
       "    </tr>\n",
       "    <tr>\n",
       "      <th>1</th>\n",
       "      <td>Computer Operator/data Entry/bpo</td>\n",
       "      <td>0</td>\n",
       "      <td>Pune</td>\n",
       "      <td>data entry</td>\n",
       "      <td>customer service</td>\n",
       "      <td>word</td>\n",
       "      <td>mnc</td>\n",
       "      <td>computer operating</td>\n",
       "      <td>data maintenance</td>\n",
       "      <td>voice process</td>\n",
       "      <td>125000</td>\n",
       "      <td>325000</td>\n",
       "    </tr>\n",
       "    <tr>\n",
       "      <th>2</th>\n",
       "      <td>Mac Tech Solutions</td>\n",
       "      <td>0</td>\n",
       "      <td>Kolkata</td>\n",
       "      <td>cce</td>\n",
       "      <td>non voice process</td>\n",
       "      <td>computer operating</td>\n",
       "      <td>customer care</td>\n",
       "      <td>non voice</td>\n",
       "      <td>self employed</td>\n",
       "      <td>ms office</td>\n",
       "      <td>275000</td>\n",
       "      <td>700000</td>\n",
       "    </tr>\n",
       "  </tbody>\n",
       "</table>\n",
       "</div>"
      ],
      "text/plain": [
       "                            Company  MinExp        Loc          Skill1  \\\n",
       "0                Mac Tech Solutions       0  Bangalore   self employed   \n",
       "1  Computer Operator/data Entry/bpo       0       Pune      data entry   \n",
       "2                Mac Tech Solutions       0    Kolkata             cce   \n",
       "\n",
       "               Skill2               Skill3              Skill4  \\\n",
       "0                 cce    computer operator   non voice process   \n",
       "1    customer service                 word                 mnc   \n",
       "2   non voice process   computer operating       customer care   \n",
       "\n",
       "                Skill5               Skill6          Skill7     Pay  MaxPay  \n",
       "0        customer care   computer operating       non voice  300000  700000  \n",
       "1   computer operating     data maintenance   voice process  125000  325000  \n",
       "2            non voice        self employed       ms office  275000  700000  "
      ]
     },
     "execution_count": 205,
     "metadata": {},
     "output_type": "execute_result"
    }
   ],
   "source": [
    "data.head(3)"
   ]
  },
  {
   "cell_type": "code",
   "execution_count": 206,
   "id": "170ddeb3-23a7-41b7-b44f-24a4b25c2c87",
   "metadata": {},
   "outputs": [
    {
     "data": {
      "text/plain": [
       "Index(['Company', 'MinExp', 'Loc', 'Skill1', 'Skill2', 'Skill3', 'Skill4',\n",
       "       'Skill5', 'Skill6', 'Skill7', 'Pay', 'MaxPay'],\n",
       "      dtype='object')"
      ]
     },
     "execution_count": 206,
     "metadata": {},
     "output_type": "execute_result"
    }
   ],
   "source": [
    "data.columns"
   ]
  },
  {
   "cell_type": "code",
   "execution_count": 207,
   "id": "abaa22bc-1795-4402-ba41-716b2871215b",
   "metadata": {},
   "outputs": [
    {
     "data": {
      "text/plain": [
       "<AxesSubplot:>"
      ]
     },
     "execution_count": 207,
     "metadata": {},
     "output_type": "execute_result"
    },
    {
     "data": {
      "image/png": "[encoded data removed]",
      "text/plain": [
       "<Figure size 432x288 with 2 Axes>"
      ]
     },
     "metadata": {
      "needs_background": "light"
     },
     "output_type": "display_data"
    }
   ],
   "source": [
    "cmat = pd.DataFrame()\n",
    "for x in data.columns:\n",
    "    cmat[x] = data[x].astype('category').cat.codes\n",
    "    \n",
    "sns.heatmap(cmat.corr(), cmap=sns.cm.rocket_r)"
   ]
  },
  {
   "cell_type": "markdown",
   "id": "593e5844-38f2-4987-8d3d-b054087afa08",
   "metadata": {},
   "source": [
    "Not sure if I did it the right way but I suppose experience is the only affecting factor here with skills making minor differences.\\\n",
    "The correlation of skills is interesting though they don't have any commonalities as the list has been scraped and split at random.\\\n",
    "Will further visualize and note findings on Tableau. Thank you."
   ]
  },
  {
   "cell_type": "code",
   "execution_count": 208,
   "id": "41d0f3e0-59c5-4307-af8d-4d1233b64f0c",
   "metadata": {},
   "outputs": [
    {
     "name": "stdout",
     "output_type": "stream",
     "text": [
      "Company\n",
      "['Mac Tech Solutions' 'Computer Operator/data Entry/bpo'\n",
      " 'Inflexion Analytix Private Limited'\n",
      " 'data entry, back office, calling, voice, non voice, backend, computer Opearator'\n",
      " 'Data Solutions India' 'HealthTech India'\n",
      " 'ABOTTS Consulting India Pvt Ltd' 'Super India Tech Mark' 'COLLABERA'\n",
      " 'HRXL 360 Private Limited'\n",
      " 'NTT DATA GLOBAL DELIVERY SERVICES PRIVATE LIMITED'\n",
      " 'IBM India Pvt. Limited' 'Shell India Markets Private Limited' 'Uber'\n",
      " 'Sutherland Global Services Inc'\n",
      " 'Accuprobe Healthcare and Diagnostics Pvt. Ltd.'\n",
      " 'ChaitanyaHR consultancy' 'Decision Point' 'Luxoft'\n",
      " 'CMS IT Services Private Limited' 'Recruitment Company' 'Siemens Limited'\n",
      " 'Micron Semiconductor Asia Pte Ltd' 'Cameo Corporate Services Limited'\n",
      " 'AVOCATION EDUCATIONAL SERVICES PRIVATE LIMITED'\n",
      " 'SBL KNOWLEDGE SERVICES LIMITED' 'Essel Synerg Tech Pvt Ltd'\n",
      " 'ThinkBumblebee Analytics Pvt. Ltd.'\n",
      " 'ETON SOLUTIONS AND TECHNOLOGIES INDIA LLP'\n",
      " 'Tekion India Private Limited']\n",
      "\n",
      "\n",
      "MinExp\n",
      "[ 0  4  5 10  3  2  1  7  6 12  8  9 15 11 14 13 18 16 20 17 19 21]\n",
      "\n",
      "\n",
      "Loc\n",
      "['Bangalore' 'Pune' 'Kolkata' 'Hyderabad' 'Faridabad' 'Ahmedabad'\n",
      " 'Chennai' 'Surat' 'Noida' 'New' 'Kodangal' 'Gurgaon' 'Bengaluru' 'Mumbai'\n",
      " 'Salem' 'Visakhapatnam' 'Pimpri-Chinchwad' 'Kalyan' 'Bellary' 'Jalandhar'\n",
      " 'Chandigarh' 'Vadodara' 'Thane' 'Panipat' 'Madurai' 'Srinagar' 'Tirupati'\n",
      " 'India' 'Loni' 'Amritsar']\n",
      "\n",
      "\n",
      "Skill1\n",
      "[' self employed' ' data entry' ' cce' ' python' ' back office'\n",
      " ' non voice' ' oops' ' sql database' ' spark' ' data visualization'\n",
      " ' computer skills' ' spreadsheets' ' kyc' ' voice'\n",
      " ' tableau report development' ' oil' ' java' ' computer operating' ' vba'\n",
      " ' big query' 'None' ' hive' ' customer acquisition' ' linux'\n",
      " ' data entry operation' ' maintenance' ' office management' ' computer'\n",
      " ' web research' ' excel']\n",
      "\n",
      "\n",
      "Skill2\n",
      "[' cce' ' customer service' ' non voice process' ' machine learning'\n",
      " ' email support' ' data entry operation' ' computer operating'\n",
      " ' sql server' ' programming' ' data cleaning' ' tableau' ' hindi'\n",
      " ' freshers' ' f&a' ' data analysis' ' bi reporting'\n",
      " ' quality improvement' ' python' ' hadoop' ' english typing' 'None'\n",
      " ' sql data warehousing' ' cloudera' ' metadata' ' data entry operator'\n",
      " ' data entry' ' corporate services' ' tally' ' excel' ' communication']\n",
      "\n",
      "\n",
      "Skill3\n",
      "[' computer operator' ' word' ' computer operating'\n",
      " ' artificial intelligence' ' customer service' ' typing' ' cce' ' sql'\n",
      " ' analytics' ' use cases' ' analytical' ' laptop' ' tally' ' filing'\n",
      " ' graduate' ' service level' ' sql database' ' data analysis'\n",
      " ' core data' ' software development' ' infrastructure' ' ms office'\n",
      " 'None' ' fmcg sales' ' google big' ' hadoop' ' git' ' data warehousing'\n",
      " ' bpo' ' hindi']\n",
      "\n",
      "\n",
      "Skill4\n",
      "[' non voice process' ' mnc' ' customer care' ' business intelligence'\n",
      " ' typing speed' ' computer operator' ' communication' ' python'\n",
      " ' cloudera' ' excel' ' email' ' spoken english' ' maintenance'\n",
      " ' healthcare bpo' ' freshers' ' data visualization' ' sql database'\n",
      " ' data management' ' cloud' ' data processing' ' data entry' 'None'\n",
      " ' advanced excel' ' data api' ' scala' ' nosql' ' data architecture'\n",
      " ' tally' ' word' ' google suite']\n",
      "\n",
      "\n",
      "Skill5\n",
      "[' customer care' ' computer operating' ' non voice' ' nlp'\n",
      " ' non voice process' ' data' ' microsoft office' 'None' ' hadoop'\n",
      " ' typing' ' communication' ' word' ' claims' ' accounting' ' tableau'\n",
      " ' data visualization' ' gas' ' devops' ' data quality'\n",
      " ' computer science' ' data entry operation' ' marketing analytics'\n",
      " ' nosql' ' kafka' ' data structures' ' filing' ' numerical'\n",
      " ' time management' ' typing speed' ' online research']\n",
      "\n",
      "\n",
      "Skill6\n",
      "[' computer operating' ' data maintenance' ' self employed' ' power bi'\n",
      " ' data entry' ' customer care' ' sql database' 'None' ' scala'\n",
      " ' typing speed' ' business intelligence' ' numerical' ' medical billing'\n",
      " ' back office' ' dashboards' ' tableau' ' hp data protector' ' big data'\n",
      " ' coding' ' macros' ' agile' ' operations' ' etl' ' maintenance'\n",
      " ' management' ' ms office tools' ' data entry operation' ' azure'\n",
      " ' data science' ' ci/cd']\n",
      "\n",
      "\n",
      "Skill7\n",
      "[' non voice' ' voice process' ' ms office' ' advanced analytics' ' data'\n",
      " ' techno functional' 'None' ' big data' ' front' ' verbal'\n",
      " ' typing speed' ' fresher' ' graduates' ' data warehousing'\n",
      " ' strong communication skills' ' pyspark' ' database design' ' sql'\n",
      " ' tableau' ' sql database' ' analytics' ' unix administration'\n",
      " ' spreadsheets' ' ms office tools' ' advanced excel' ' google analytics'\n",
      " ' cloud' ' azure databricks' ' data mining' ' scala']\n",
      "\n",
      "\n",
      "Pay\n",
      "[300000 125000 275000 350000 175000 'None' 200000 100000 50000 150000\n",
      " 225000 400000 2000000 800000 1500000 500000 450000 250000 1000000 1100000\n",
      " 600000 850000 900000 1200000 325000 80000 1600000 700000 90000 475000]\n",
      "\n",
      "\n",
      "MaxPay\n",
      "[700000 325000 425000 175000 750000 300000 'None' 400000 200000 375000\n",
      " 250000 275000 225000 900000 600000 3000000 475000 1000000 2000000 450000\n",
      " 125000 150000 650000 500000 1100000 1500000 1200000 550000 2100000\n",
      " 1400000]\n",
      "\n",
      "\n"
     ]
    }
   ],
   "source": [
    "for x in data.columns:\n",
    "    print(f'{x}\\n{data[x].unique()[0:30]}\\n\\n')"
   ]
  },
  {
   "cell_type": "code",
   "execution_count": 209,
   "id": "18bd013d-e3a5-46af-8d5e-ae4c9e423ce9",
   "metadata": {},
   "outputs": [],
   "source": [
    "data.to_csv(f'{directory}\\\\{filename}_Clean.csv', index = False)"
   ]
  },
  {
   "cell_type": "markdown",
   "id": "8f3ec75f-8987-4c17-8e27-2c3d7de26cba",
   "metadata": {},
   "source": [
    "DS_Clean is exported from here"
   ]
  },
  {
   "cell_type": "markdown",
   "id": "71580a9e-87d3-45f5-8518-f01613e41d7e",
   "metadata": {},
   "source": [
    "### 2.1 Feature adjustments for tableau"
   ]
  },
  {
   "cell_type": "code",
   "execution_count": 65,
   "id": "2582a822-f0b0-46b6-9182-88e3b4e691c0",
   "metadata": {},
   "outputs": [],
   "source": [
    "data = pd.DataFrame()\n",
    "data = pd.read_csv(f'{directory}\\\\{filename}_Clean.csv')"
   ]
  },
  {
   "cell_type": "code",
   "execution_count": 66,
   "id": "9fce460e-6a86-4447-b317-2b2c5c2d4846",
   "metadata": {},
   "outputs": [
    {
     "data": {
      "text/html": [
       "<div>\n",
       "<style scoped>\n",
       "    .dataframe tbody tr th:only-of-type {\n",
       "        vertical-align: middle;\n",
       "    }\n",
       "\n",
       "    .dataframe tbody tr th {\n",
       "        vertical-align: top;\n",
       "    }\n",
       "\n",
       "    .dataframe thead th {\n",
       "        text-align: right;\n",
       "    }\n",
       "</style>\n",
       "<table border=\"1\" class=\"dataframe\">\n",
       "  <thead>\n",
       "    <tr style=\"text-align: right;\">\n",
       "      <th></th>\n",
       "      <th>MinExp</th>\n",
       "      <th>Loc</th>\n",
       "      <th>Skill1</th>\n",
       "      <th>Skill2</th>\n",
       "      <th>Skill3</th>\n",
       "      <th>Skill4</th>\n",
       "      <th>Skill5</th>\n",
       "      <th>Skill6</th>\n",
       "      <th>Skill7</th>\n",
       "      <th>Pay</th>\n",
       "      <th>MinPay</th>\n",
       "      <th>MaxPay</th>\n",
       "    </tr>\n",
       "  </thead>\n",
       "  <tbody>\n",
       "    <tr>\n",
       "      <th>0</th>\n",
       "      <td>0</td>\n",
       "      <td>Bangalore</td>\n",
       "      <td>hospital</td>\n",
       "      <td>covid duties</td>\n",
       "      <td>None</td>\n",
       "      <td>None</td>\n",
       "      <td>None</td>\n",
       "      <td>None</td>\n",
       "      <td>None</td>\n",
       "      <td>None</td>\n",
       "      <td>None</td>\n",
       "      <td>None</td>\n",
       "    </tr>\n",
       "    <tr>\n",
       "      <th>1</th>\n",
       "      <td>0</td>\n",
       "      <td>Bangalore</td>\n",
       "      <td>hospital</td>\n",
       "      <td>covid duties</td>\n",
       "      <td>None</td>\n",
       "      <td>None</td>\n",
       "      <td>None</td>\n",
       "      <td>None</td>\n",
       "      <td>None</td>\n",
       "      <td>None</td>\n",
       "      <td>None</td>\n",
       "      <td>None</td>\n",
       "    </tr>\n",
       "  </tbody>\n",
       "</table>\n",
       "</div>"
      ],
      "text/plain": [
       "   MinExp        Loc     Skill1         Skill2 Skill3 Skill4 Skill5 Skill6  \\\n",
       "0       0  Bangalore   hospital   covid duties   None   None   None   None   \n",
       "1       0  Bangalore   hospital   covid duties   None   None   None   None   \n",
       "\n",
       "  Skill7   Pay MinPay MaxPay  \n",
       "0   None  None   None   None  \n",
       "1   None  None   None   None  "
      ]
     },
     "execution_count": 66,
     "metadata": {},
     "output_type": "execute_result"
    }
   ],
   "source": [
    "data.head(2)"
   ]
  },
  {
   "cell_type": "code",
   "execution_count": 67,
   "id": "d6b14eb0-f4fb-4ba7-a6da-cd9ff8d9749f",
   "metadata": {},
   "outputs": [],
   "source": [
    "skills = []"
   ]
  },
  {
   "cell_type": "code",
   "execution_count": 68,
   "id": "e52139b9-990f-4731-a483-767828ff204d",
   "metadata": {},
   "outputs": [],
   "source": [
    "for x in range(1,8):\n",
    "    for y in data[f'Skill{x}']:\n",
    "        skills.append(y)"
   ]
  },
  {
   "cell_type": "code",
   "execution_count": 69,
   "id": "86335376-1b35-4709-894c-7bfa09ede6d9",
   "metadata": {},
   "outputs": [
    {
     "data": {
      "text/plain": [
       "215166"
      ]
     },
     "execution_count": 69,
     "metadata": {},
     "output_type": "execute_result"
    }
   ],
   "source": [
    "len(skills)"
   ]
  },
  {
   "cell_type": "code",
   "execution_count": 47,
   "id": "7d05ca2b-424a-4c69-920f-b4fce946e841",
   "metadata": {},
   "outputs": [
    {
     "data": {
      "text/plain": [
       "' medical'"
      ]
     },
     "execution_count": 47,
     "metadata": {},
     "output_type": "execute_result"
    }
   ],
   "source": [
    "skills[999]"
   ]
  },
  {
   "cell_type": "code",
   "execution_count": 48,
   "id": "e4452976-a06b-492f-ade5-fa11676d2003",
   "metadata": {},
   "outputs": [],
   "source": [
    "skills = pd.DataFrame(skills, columns=['AllSkills'])"
   ]
  },
  {
   "cell_type": "code",
   "execution_count": 49,
   "id": "3ab15ef7-80c0-460f-b0a5-16b6acde8ca5",
   "metadata": {},
   "outputs": [
    {
     "name": "stdout",
     "output_type": "stream",
     "text": [
      "<class 'pandas.core.frame.DataFrame'>\n",
      "RangeIndex: 10780 entries, 0 to 10779\n",
      "Data columns (total 1 columns):\n",
      " #   Column     Non-Null Count  Dtype \n",
      "---  ------     --------------  ----- \n",
      " 0   AllSkills  10780 non-null  object\n",
      "dtypes: object(1)\n",
      "memory usage: 84.3+ KB\n"
     ]
    }
   ],
   "source": [
    "skills.info()"
   ]
  },
  {
   "cell_type": "code",
   "execution_count": 50,
   "id": "79f5c7e3-168f-4367-9a9b-e41e9fa6102e",
   "metadata": {},
   "outputs": [],
   "source": [
    "skills.to_csv(r'G:\\My Drive\\Desktop\\PGP-Data Science\\eCornell\\SHA571\\DS_Skills.csv', index = False)"
   ]
  },
  {
   "cell_type": "code",
   "execution_count": null,
   "id": "40f2cd70-5b6f-46d1-820f-d46d9c083fbd",
   "metadata": {},
   "outputs": [],
   "source": []
  }
 ],
 "metadata": {
  "kernelspec": {
   "display_name": "Python 3",
   "language": "python",
   "name": "python3"
  },
  "language_info": {
   "codemirror_mode": {
    "name": "ipython",
    "version": 3
   },
   "file_extension": ".py",
   "mimetype": "text/x-python",
   "name": "python",
   "nbconvert_exporter": "python",
   "pygments_lexer": "ipython3",
   "version": "3.9.2"
  }
 },
 "nbformat": 4,
 "nbformat_minor": 5
}
